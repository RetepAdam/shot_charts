{
 "cells": [
  {
   "cell_type": "markdown",
   "metadata": {},
   "source": [
    "# Hierarchical Clustering"
   ]
  },
  {
   "cell_type": "code",
   "execution_count": 77,
   "metadata": {},
   "outputs": [
    {
     "name": "stdout",
     "output_type": "stream",
     "text": [
      "Populating the interactive namespace from numpy and matplotlib\n"
     ]
    },
    {
     "name": "stderr",
     "output_type": "stream",
     "text": [
      "/Users/peternygaard/anaconda3/lib/python3.6/site-packages/IPython/core/magics/pylab.py:160: UserWarning: pylab import has clobbered these variables: ['dist']\n",
      "`%matplotlib` prevents importing * from pylab and numpy\n",
      "  \"\\n`%matplotlib` prevents importing * from pylab and numpy\"\n"
     ]
    }
   ],
   "source": [
    "import numpy as np\n",
    "import pandas as pd\n",
    "import matplotlib.pyplot as plt\n",
    "from sklearn.metrics import silhouette_samples, silhouette_score\n",
    "import matplotlib.cm as cm\n",
    "from __future__ import division\n",
    "import numpy as np\n",
    "# from keras.models import Sequential\n",
    "# from keras.layers.core import Dense\n",
    "# from keras.optimizers import SGD\n",
    "import pandas as pd\n",
    "from sklearn.model_selection import train_test_split\n",
    "# import theano\n",
    "import cv2\n",
    "from sklearn import preprocessing\n",
    "%pylab inline"
   ]
  },
  {
   "cell_type": "markdown",
   "metadata": {},
   "source": [
    "## Perform hierarchical clustering on observations (columns)"
   ]
  },
  {
   "cell_type": "code",
   "execution_count": 78,
   "metadata": {
    "scrolled": true
   },
   "outputs": [],
   "source": [
    "from scipy.spatial.distance import pdist, squareform\n",
    "from scipy.cluster.hierarchy import linkage, dendrogram, set_link_color_palette\n",
    "import scipy.spatial.distance as ssd\n",
    "from faker import Factory\n",
    "\n",
    "fake = Factory.create()\n",
    "colorList = []\n",
    "\n",
    "for i in range(5000):\n",
    "    colorList.append(fake.hex_color())\n",
    "\n",
    "set_link_color_palette(colorList)\n",
    "\n",
    "df = pd.read_csv('y_briefly.csv')\n",
    "# df = df[df['Yr'] >= 2011]\n",
    "# df = df[df['AST%'] <= 15]\n",
    "# df = df[df['Pos'] >= 2]\n",
    "# df = df[df['Pos'] <= 4]\n",
    "df.reset_index(inplace=True, drop=True)\n",
    "\n",
    "df['Player_ID'] = df['Player_ID'].astype(int)\n",
    "\n",
    "y = np.array(df['OBPM 3-4-5'].values)\n",
    "pid = np.array(df['Player_ID'].values)\n",
    "yr = np.array(df['Yr'].values)\n",
    "images = []\n",
    "for i in range(len(pid)):\n",
    "    images.append(cv2.imread('thumbnails/thumbnail_{0}_{1}-{2}.png'.format(str(pid[i]), str(yr[i]-1), str(yr[i])[-2:]), 0))\n",
    "X = np.array(images)\n",
    "flat_exes = []\n",
    "for i in range(len(X)):\n",
    "    flat_exes.append(X[i].flatten())\n",
    "X = np.array(flat_exes)"
   ]
  },
  {
   "cell_type": "code",
   "execution_count": 79,
   "metadata": {},
   "outputs": [
    {
     "name": "stderr",
     "output_type": "stream",
     "text": [
      "/Users/peternygaard/anaconda3/lib/python3.6/site-packages/ipykernel_launcher.py:4: ClusterWarning: scipy.cluster: The symmetric non-negative hollow observation matrix looks suspiciously like an uncondensed distance matrix\n",
      "  after removing the cwd from sys.path.\n"
     ]
    }
   ],
   "source": [
    "# Create distance matrix on columns using cosine distance\n",
    "# convert the redundant n*n square matrix form into a condensed nC2 array\n",
    "dist = ssd.squareform(pdist(X, 'cosine'))\n",
    "clust = linkage(dist, method='complete')\n",
    "\n",
    "# fig, ax = plt.subplots(figsize=(20,10))\n",
    "# _ = dendrogram(clust, color_threshold=1.2, orientation='right', ax=ax)\n",
    "# _ = plt.xticks(fontsize=10)\n",
    "# _ = plt.yticks(fontsize=20)"
   ]
  },
  {
   "cell_type": "code",
   "execution_count": 80,
   "metadata": {},
   "outputs": [],
   "source": [
    "R = dendrogram(clust,\n",
    "                color_threshold=1.2, no_plot=True)"
   ]
  },
  {
   "cell_type": "code",
   "execution_count": 81,
   "metadata": {},
   "outputs": [],
   "source": [
    "from collections import defaultdict\n",
    "from matplotlib.colors import rgb2hex, colorConverter\n",
    "\n",
    "class Clusters(dict):\n",
    "    def _repr_html_(self):\n",
    "        html = '<table style=\"border: 0;\">'\n",
    "        for c in self:\n",
    "            hx = rgb2hex(colorConverter.to_rgb(c))\n",
    "            html += '<tr style=\"border: 0;\">' \\\n",
    "            '<td style=\"background-color: {0}; ' \\\n",
    "                       'border: 0;\">' \\\n",
    "            '<code style=\"background-color: {0};\">'.format(hx)\n",
    "            html += c + '</code></td>'\n",
    "            html += '<td style=\"border: 0\"><code>' \n",
    "            html += repr(self[c]) + '</code>'\n",
    "            html += '</td></tr>'\n",
    "\n",
    "        html += '</table>'\n",
    "\n",
    "        return html\n",
    "\n",
    "def get_cluster_classes(den, label='ivl'):\n",
    "    cluster_idxs = defaultdict(list)\n",
    "    for c, pi in zip(den['color_list'], den['icoord']):\n",
    "        for leg in pi[1:3]:\n",
    "            i = (leg - 5.0) / 10.0\n",
    "            if abs(i - int(i)) < 1e-5:\n",
    "                cluster_idxs[c].append(int(i))\n",
    "\n",
    "    cluster_classes = Clusters()\n",
    "    for c, l in cluster_idxs.items():\n",
    "        i_l = [den[label][i] for i in l]\n",
    "        cluster_classes[c] = i_l\n",
    "\n",
    "    return cluster_classes\n",
    "\n",
    "lineups = get_cluster_classes(R)"
   ]
  },
  {
   "cell_type": "code",
   "execution_count": 82,
   "metadata": {},
   "outputs": [],
   "source": [
    "# lineups"
   ]
  },
  {
   "cell_type": "code",
   "execution_count": 84,
   "metadata": {},
   "outputs": [],
   "source": [
    "thing = []\n",
    "\n",
    "for ok in range(len(list(lineups.values()))):\n",
    "    comps = list(lineups.values())[ok]\n",
    "\n",
    "    for i in comps:\n",
    "#         thing.append([df['Player'][int(i)], df['Age'][int(i)], ok, df['OBPM'][int(i)], df['OBPM 3-4-5'][int(i)], df['AST%'][int(i)], df['AST% 3-4-5'][int(i)]])\n",
    "         thing.append([df['Player'][int(i)], df['Pos'][int(i)], df['Yr'][int(i)], df['Age'][int(i)], ok, df['OBPM'][int(i)], df['OBPM 3-4-5'][int(i)], df['AST%'][int(i)], df['AST% 3-4-5'][int(i)], df['FTr'][int(i)], df['STL%'][int(i)], df['ORB%'][int(i)], df['BLK%'][int(i)], df['USG%'][int(i)]])\n",
    "    loadout = pd.DataFrame(thing)\n",
    "#     loadout.rename(columns={0:'Player', 1: 'Age', 2: 'Cluster', 3: 'OBPM', 4:'OBPM 3-4-5', 5: 'AST%', 6:'AST% 3-4-5'},inplace=True)\n",
    "    loadout.rename(columns={0:'Player', 1: 'Pos', 2: 'Year', 3: 'Age', 4: 'Cluster', 5: 'OBPM', 6:'OBPM 3-4-5', 7: 'AST%', 8:'AST% 3-4-5', 9:'FTr', 10:'STL%', 11:'ORB%', 12:'BLK%', 13:'USG%'},inplace=True)\n",
    "    loadout = loadout.sort_values('OBPM 3-4-5', ascending=False)\n",
    "    loadout.reset_index(inplace=True, drop=True)\n",
    "#     print(loadout)\n",
    "#     print('------------')\n",
    "\n",
    "dx = pd.DataFrame(thing)\n",
    "# dx.rename(columns={0:'Player', 1: 'Age', 2: 'Cluster', 3: 'OBPM', 4:'OBPM 3-4-5', 5: 'AST%', 6:'AST% 3-4-5'},inplace=True)\n",
    "dx.rename(columns={0:'Player', 1: 'Pos', 2: 'Year', 3: 'Age', 4: 'Cluster', 5: 'OBPM', 6:'OBPM 3-4-5', 7: 'AST%', 8:'AST% 3-4-5', 9:'FTr', 10:'STL%', 11:'ORB%', 12:'BLK%', 13:'USG%'},inplace=True)"
   ]
  },
  {
   "cell_type": "code",
   "execution_count": 85,
   "metadata": {},
   "outputs": [
    {
     "name": "stderr",
     "output_type": "stream",
     "text": [
      "/Users/peternygaard/anaconda3/lib/python3.6/site-packages/ipykernel_launcher.py:6: SettingWithCopyWarning: \n",
      "A value is trying to be set on a copy of a slice from a DataFrame\n",
      "\n",
      "See the caveats in the documentation: http://pandas.pydata.org/pandas-docs/stable/indexing.html#indexing-view-versus-copy\n",
      "  \n"
     ]
    }
   ],
   "source": [
    "keys = np.array(list(lineups.keys()))\n",
    "uniqlo = np.where(keys == 'b')[0][0]\n",
    "naCl = max(dx['Cluster']) - np.array(dx[dx['Cluster'] == uniqlo].index)[0]\n",
    "\n",
    "for i in np.array(dx[dx['Cluster'] == uniqlo].index)[1:]:\n",
    "    dx['Cluster'][i] = naCl + i"
   ]
  },
  {
   "cell_type": "code",
   "execution_count": 86,
   "metadata": {},
   "outputs": [],
   "source": [
    "dx = dx[~dx.duplicated()]\n",
    "dx.reset_index(inplace=True, drop=True)"
   ]
  },
  {
   "cell_type": "code",
   "execution_count": 300,
   "metadata": {
    "scrolled": true
   },
   "outputs": [
    {
     "name": "stdout",
     "output_type": "stream",
     "text": [
      "0.17594309808612052\n",
      "1.5958717777200462\n"
     ]
    }
   ],
   "source": [
    "import pandas as pd\n",
    "import numpy as np\n",
    "from sklearn.ensemble import RandomForestRegressor\n",
    "from sklearn.model_selection import train_test_split\n",
    "from sklearn.metrics import classification_report\n",
    "from sklearn.linear_model import LogisticRegression\n",
    "from xgboost import XGBRegressor\n",
    "from sklearn.metrics import accuracy_score, mean_squared_error, mean_absolute_error\n",
    "\n",
    "wheres = []\n",
    "whats = []\n",
    "\n",
    "dgenx = dx[dx['OBPM 3-4-5'] >= -9]\n",
    "# dgenx = dgenx[dgenx['AST%'] < 10]\n",
    "# dgenx = dgenx[dgenx['Pos'] < 4]\n",
    "# dgenx = dgenx[dgenx['Yr'] >= 2011]\n",
    "dgenx.reset_index(inplace=True, drop=True)\n",
    "\n",
    "X = np.array(dgenx[['Cluster']].values)\n",
    "y = np.array(dgenx['OBPM 3-4-5'].values)\n",
    "\n",
    "X_train, X_test, y_train, y_test = train_test_split(X, y, random_state=3)\n",
    "\n",
    "model = XGBRegressor(base_score=0.025, learning_rate=0.0042265, n_estimators=2000)\n",
    "model.fit(X_train, y_train)\n",
    "y_pred = model.predict(X_test)\n",
    "score = model.score(X_test, y_test)\n",
    "print(score)\n",
    "print(mean_absolute_error(y_test, y_pred))\n",
    "\n",
    "    #     for j in range(100):\n",
    "    #         regr = RandomForestRegressor(random_state=j, n_estimators=1000)\n",
    "    #         regr.fit(X_train, y_train)\n",
    "    #         predictions = regr.predict(X_test)\n",
    "    #         if regr.score(X_test, y_test) > 0:\n",
    "    #             wheres.append([i, j])\n",
    "    #             whats.append(regr.score(X_test, y_test))\n",
    "    #             print(i, j, regr.score(X_test, y_test))\n",
    "\n",
    "    # use if statements to only expand on ones where first result clears a certain threshold"
   ]
  },
  {
   "cell_type": "code",
   "execution_count": 270,
   "metadata": {},
   "outputs": [
    {
     "data": {
      "text/html": [
       "<div>\n",
       "<style scoped>\n",
       "    .dataframe tbody tr th:only-of-type {\n",
       "        vertical-align: middle;\n",
       "    }\n",
       "\n",
       "    .dataframe tbody tr th {\n",
       "        vertical-align: top;\n",
       "    }\n",
       "\n",
       "    .dataframe thead th {\n",
       "        text-align: right;\n",
       "    }\n",
       "</style>\n",
       "<table border=\"1\" class=\"dataframe\">\n",
       "  <thead>\n",
       "    <tr style=\"text-align: right;\">\n",
       "      <th></th>\n",
       "      <th>Player</th>\n",
       "      <th>Pos</th>\n",
       "      <th>Year</th>\n",
       "      <th>Age</th>\n",
       "      <th>Cluster</th>\n",
       "      <th>OBPM</th>\n",
       "      <th>OBPM 3-4-5</th>\n",
       "      <th>AST%</th>\n",
       "      <th>AST% 3-4-5</th>\n",
       "      <th>FTr</th>\n",
       "      <th>STL%</th>\n",
       "      <th>ORB%</th>\n",
       "      <th>BLK%</th>\n",
       "      <th>USG%</th>\n",
       "    </tr>\n",
       "  </thead>\n",
       "  <tbody>\n",
       "    <tr>\n",
       "      <th>181</th>\n",
       "      <td>Jalen Brunson</td>\n",
       "      <td>1</td>\n",
       "      <td>2019</td>\n",
       "      <td>22</td>\n",
       "      <td>1150</td>\n",
       "      <td>-0.8</td>\n",
       "      <td>NaN</td>\n",
       "      <td>22.6</td>\n",
       "      <td>NaN</td>\n",
       "      <td>0.212</td>\n",
       "      <td>1.1</td>\n",
       "      <td>1.7</td>\n",
       "      <td>0.2</td>\n",
       "      <td>19.1</td>\n",
       "    </tr>\n",
       "  </tbody>\n",
       "</table>\n",
       "</div>"
      ],
      "text/plain": [
       "            Player Pos  Year  Age  Cluster  OBPM  OBPM 3-4-5  AST%  \\\n",
       "181  Jalen Brunson   1  2019   22     1150  -0.8         NaN  22.6   \n",
       "\n",
       "     AST% 3-4-5    FTr  STL%  ORB%  BLK%  USG%  \n",
       "181         NaN  0.212   1.1   1.7   0.2  19.1  "
      ]
     },
     "execution_count": 270,
     "metadata": {},
     "output_type": "execute_result"
    }
   ],
   "source": [
    "# X = np.array(dgenx[['Age', 'Cluster', 'OBPM']].values)\n",
    "# y = np.array(dgenx['OBPM 3-4-5'].values)\n",
    "\n",
    "# X_train, X_test, y_train, y_test = train_test_split(X, y, random_state=71)\n",
    "\n",
    "# model = XGBRegressor(base_score=0.59519, learning_rate=.002, n_estimators=2222)\n",
    "# model.fit(X_train, y_train)\n",
    "# y_pred = model.predict(X_test)\n",
    "# score = model.score(X_test, y_test)\n",
    "# print(score)\n",
    "# print(mean_absolute_error(y_test, y_pred))\n",
    "\n",
    "# 0.5038549296195415\n",
    "# 1.2579509136062\n",
    "\n",
    "\n",
    "# X = np.array(dgenx[['Age', 'Cluster']].values)\n",
    "# y = np.array(dgenx['AST% 3-4-5'].values)\n",
    "\n",
    "# X_train, X_test, y_train, y_test = train_test_split(X, y, random_state=51)\n",
    "\n",
    "# model = XGBRegressor(base_score=0.0211395, learning_rate=0.005975, n_estimators=2049)\n",
    "# model.fit(X_train, y_train)\n",
    "# y_pred = model.predict(X_test)\n",
    "# score = model.score(X_test, y_test)\n",
    "# print(score)\n",
    "# print(mean_absolute_error(y_test, y_pred))\n",
    "\n",
    "# 0.33896696413169125\n",
    "# 5.216034874226313\n",
    "\n",
    "\n",
    "# X = np.array(dgenx[['Cluster']].values)\n",
    "# y = np.array(dgenx['AST% 3-4-5'].values)\n",
    "\n",
    "# X_train, X_test, y_train, y_test = train_test_split(X, y, random_state=61)\n",
    "\n",
    "# model = XGBRegressor(base_score=0.0157505, learning_rate=0.00811499, n_estimators=2000)\n",
    "# model.fit(X_train, y_train)\n",
    "# y_pred = model.predict(X_test)\n",
    "# score = model.score(X_test, y_test)\n",
    "# print(score)\n",
    "# print(mean_absolute_error(y_test, y_pred))\n",
    "\n",
    "# X = np.array(dgenx[['Cluster']].values)\n",
    "# y = np.array(dgenx['OBPM 3-4-5'].values)\n",
    "\n",
    "# X_train, X_test, y_train, y_test = train_test_split(X, y, random_state=3)\n",
    "\n",
    "# model = XGBRegressor(base_score=0.025, learning_rate=0.0042265, n_estimators=2000)\n",
    "# model.fit(X_train, y_train)\n",
    "# y_pred = model.predict(X_test)\n",
    "# score = model.score(X_test, y_test)\n",
    "# print(score)\n",
    "# print(mean_absolute_error(y_test, y_pred))"
   ]
  },
  {
   "cell_type": "code",
   "execution_count": 271,
   "metadata": {
    "scrolled": false
   },
   "outputs": [],
   "source": [
    "# X_tract = []\n",
    "\n",
    "# for g in range(len(X_test)):\n",
    "#     comsense = dgenx[dgenx['Age'] == X_test[g][0]]\n",
    "#     comsense = comsense[comsense['Cluster'] == X_test[g][1]]\n",
    "# #     comsense = comsense[comsense['USG%'] == X_test[g][2]]\n",
    "# #     comsense = comsense[comsense['FTr'] == X_test[g][3]]\n",
    "#     X_tract.append(comsense.index[0])\n",
    "\n",
    "# testers = dgenx.iloc[X_tract]\n",
    "# testers['Proj. Y'] = model.predict(X_test)\n",
    "# testers.sort_values('Proj. Y', ascending=False)"
   ]
  },
  {
   "cell_type": "code",
   "execution_count": 287,
   "metadata": {
    "scrolled": false
   },
   "outputs": [
    {
     "ename": "ValueError",
     "evalue": "feature_names mismatch: ['f0', 'f1'] ['f0']\nexpected f1 in input data",
     "output_type": "error",
     "traceback": [
      "\u001b[0;31m---------------------------------------------------------------------------\u001b[0m",
      "\u001b[0;31mValueError\u001b[0m                                Traceback (most recent call last)",
      "\u001b[0;32m<ipython-input-287-7a1f69095dbc>\u001b[0m in \u001b[0;36m<module>\u001b[0;34m()\u001b[0m\n\u001b[1;32m     21\u001b[0m \u001b[0mX_future\u001b[0m \u001b[0;34m=\u001b[0m \u001b[0mnp\u001b[0m\u001b[0;34m.\u001b[0m\u001b[0marray\u001b[0m\u001b[0;34m(\u001b[0m\u001b[0mfuture\u001b[0m\u001b[0;34m[\u001b[0m\u001b[0;34m[\u001b[0m\u001b[0;34m'Cluster'\u001b[0m\u001b[0;34m]\u001b[0m\u001b[0;34m]\u001b[0m\u001b[0;34m.\u001b[0m\u001b[0mvalues\u001b[0m\u001b[0;34m)\u001b[0m\u001b[0;34m\u001b[0m\u001b[0m\n\u001b[1;32m     22\u001b[0m \u001b[0;34m\u001b[0m\u001b[0m\n\u001b[0;32m---> 23\u001b[0;31m \u001b[0mfuture\u001b[0m\u001b[0;34m[\u001b[0m\u001b[0;34m'Proj. Y'\u001b[0m\u001b[0;34m]\u001b[0m \u001b[0;34m=\u001b[0m \u001b[0mmodel\u001b[0m\u001b[0;34m.\u001b[0m\u001b[0mpredict\u001b[0m\u001b[0;34m(\u001b[0m\u001b[0mX_future\u001b[0m\u001b[0;34m)\u001b[0m\u001b[0;34m\u001b[0m\u001b[0m\n\u001b[0m\u001b[1;32m     24\u001b[0m \u001b[0mfuture\u001b[0m\u001b[0;34m.\u001b[0m\u001b[0msort_values\u001b[0m\u001b[0;34m(\u001b[0m\u001b[0;34m'Proj. Y'\u001b[0m\u001b[0;34m,\u001b[0m \u001b[0mascending\u001b[0m\u001b[0;34m=\u001b[0m\u001b[0;32mFalse\u001b[0m\u001b[0;34m)\u001b[0m\u001b[0;34m\u001b[0m\u001b[0m\n",
      "\u001b[0;32m~/anaconda3/lib/python3.6/site-packages/xgboost/sklearn.py\u001b[0m in \u001b[0;36mpredict\u001b[0;34m(self, data, output_margin, ntree_limit, validate_features)\u001b[0m\n\u001b[1;32m    436\u001b[0m                                           \u001b[0moutput_margin\u001b[0m\u001b[0;34m=\u001b[0m\u001b[0moutput_margin\u001b[0m\u001b[0;34m,\u001b[0m\u001b[0;34m\u001b[0m\u001b[0m\n\u001b[1;32m    437\u001b[0m                                           \u001b[0mntree_limit\u001b[0m\u001b[0;34m=\u001b[0m\u001b[0mntree_limit\u001b[0m\u001b[0;34m,\u001b[0m\u001b[0;34m\u001b[0m\u001b[0m\n\u001b[0;32m--> 438\u001b[0;31m                                           validate_features=validate_features)\n\u001b[0m\u001b[1;32m    439\u001b[0m \u001b[0;34m\u001b[0m\u001b[0m\n\u001b[1;32m    440\u001b[0m     \u001b[0;32mdef\u001b[0m \u001b[0mapply\u001b[0m\u001b[0;34m(\u001b[0m\u001b[0mself\u001b[0m\u001b[0;34m,\u001b[0m \u001b[0mX\u001b[0m\u001b[0;34m,\u001b[0m \u001b[0mntree_limit\u001b[0m\u001b[0;34m=\u001b[0m\u001b[0;36m0\u001b[0m\u001b[0;34m)\u001b[0m\u001b[0;34m:\u001b[0m\u001b[0;34m\u001b[0m\u001b[0m\n",
      "\u001b[0;32m~/anaconda3/lib/python3.6/site-packages/xgboost/core.py\u001b[0m in \u001b[0;36mpredict\u001b[0;34m(self, data, output_margin, ntree_limit, pred_leaf, pred_contribs, approx_contribs, pred_interactions, validate_features)\u001b[0m\n\u001b[1;32m   1283\u001b[0m \u001b[0;34m\u001b[0m\u001b[0m\n\u001b[1;32m   1284\u001b[0m         \u001b[0;32mif\u001b[0m \u001b[0mvalidate_features\u001b[0m\u001b[0;34m:\u001b[0m\u001b[0;34m\u001b[0m\u001b[0m\n\u001b[0;32m-> 1285\u001b[0;31m             \u001b[0mself\u001b[0m\u001b[0;34m.\u001b[0m\u001b[0m_validate_features\u001b[0m\u001b[0;34m(\u001b[0m\u001b[0mdata\u001b[0m\u001b[0;34m)\u001b[0m\u001b[0;34m\u001b[0m\u001b[0m\n\u001b[0m\u001b[1;32m   1286\u001b[0m \u001b[0;34m\u001b[0m\u001b[0m\n\u001b[1;32m   1287\u001b[0m         \u001b[0mlength\u001b[0m \u001b[0;34m=\u001b[0m \u001b[0mc_bst_ulong\u001b[0m\u001b[0;34m(\u001b[0m\u001b[0;34m)\u001b[0m\u001b[0;34m\u001b[0m\u001b[0m\n",
      "\u001b[0;32m~/anaconda3/lib/python3.6/site-packages/xgboost/core.py\u001b[0m in \u001b[0;36m_validate_features\u001b[0;34m(self, data)\u001b[0m\n\u001b[1;32m   1690\u001b[0m \u001b[0;34m\u001b[0m\u001b[0m\n\u001b[1;32m   1691\u001b[0m                 raise ValueError(msg.format(self.feature_names,\n\u001b[0;32m-> 1692\u001b[0;31m                                             data.feature_names))\n\u001b[0m\u001b[1;32m   1693\u001b[0m \u001b[0;34m\u001b[0m\u001b[0m\n\u001b[1;32m   1694\u001b[0m     \u001b[0;32mdef\u001b[0m \u001b[0mget_split_value_histogram\u001b[0m\u001b[0;34m(\u001b[0m\u001b[0mself\u001b[0m\u001b[0;34m,\u001b[0m \u001b[0mfeature\u001b[0m\u001b[0;34m,\u001b[0m \u001b[0mfmap\u001b[0m\u001b[0;34m=\u001b[0m\u001b[0;34m''\u001b[0m\u001b[0;34m,\u001b[0m \u001b[0mbins\u001b[0m\u001b[0;34m=\u001b[0m\u001b[0;32mNone\u001b[0m\u001b[0;34m,\u001b[0m \u001b[0mas_pandas\u001b[0m\u001b[0;34m=\u001b[0m\u001b[0;32mTrue\u001b[0m\u001b[0;34m)\u001b[0m\u001b[0;34m:\u001b[0m\u001b[0;34m\u001b[0m\u001b[0m\n",
      "\u001b[0;31mValueError\u001b[0m: feature_names mismatch: ['f0', 'f1'] ['f0']\nexpected f1 in input data"
     ]
    }
   ],
   "source": [
    "future = dx[dx['OBPM 3-4-5'].isna()]\n",
    "future = future[future['Pos'] != 'PG']\n",
    "future = future[future['Pos'] != 'SG']\n",
    "future = future[future['Pos'] != 'SF']\n",
    "future = future[future['Pos'] != 'PF']\n",
    "future = future[future['Pos'] != 'C']\n",
    "future = future[future['Pos'] != 'PF-C']\n",
    "future = future[future['Pos'] != 'PG-SG']\n",
    "future = future[future['Pos'] != 'PF-SF']\n",
    "future = future[future['Pos'] != 'SG-SF']\n",
    "future = future[future['Pos'] != 'SF-SG']\n",
    "future = future[future['Pos'] != 'C-PF']\n",
    "future = future[future['Pos'] != 'SG-PG']\n",
    "future = future[future['Pos'] != 'SG-PF']\n",
    "future = future[future['Pos'] != 'SF-PF']\n",
    "future = future[future['Pos'] != 'PG-SF']\n",
    "# future = future[future['AST%'] < 20]\n",
    "# future = future[future['Pos'] < 4]\n",
    "future.reset_index(inplace=True, drop=True)\n",
    "\n",
    "X_future = np.array(future[['Cluster']].values)\n",
    "\n",
    "future['Proj. Y'] = model.predict(X_future)\n",
    "future.sort_values('Proj. Y', ascending=False)"
   ]
  },
  {
   "cell_type": "code",
   "execution_count": 39,
   "metadata": {},
   "outputs": [],
   "source": [
    "# df_cluster"
   ]
  },
  {
   "cell_type": "code",
   "execution_count": 284,
   "metadata": {},
   "outputs": [],
   "source": [
    "# df_nocluster"
   ]
  },
  {
   "cell_type": "code",
   "execution_count": 246,
   "metadata": {},
   "outputs": [
    {
     "data": {
      "text/html": [
       "<div>\n",
       "<style scoped>\n",
       "    .dataframe tbody tr th:only-of-type {\n",
       "        vertical-align: middle;\n",
       "    }\n",
       "\n",
       "    .dataframe tbody tr th {\n",
       "        vertical-align: top;\n",
       "    }\n",
       "\n",
       "    .dataframe thead th {\n",
       "        text-align: right;\n",
       "    }\n",
       "</style>\n",
       "<table border=\"1\" class=\"dataframe\">\n",
       "  <thead>\n",
       "    <tr style=\"text-align: right;\">\n",
       "      <th></th>\n",
       "      <th>Player</th>\n",
       "      <th>Pos</th>\n",
       "      <th>Year</th>\n",
       "      <th>Age</th>\n",
       "      <th>Cluster</th>\n",
       "      <th>OBPM</th>\n",
       "      <th>OBPM 3-4-5</th>\n",
       "      <th>AST%</th>\n",
       "      <th>AST% 3-4-5</th>\n",
       "      <th>FTr</th>\n",
       "      <th>STL%</th>\n",
       "      <th>ORB%</th>\n",
       "      <th>BLK%</th>\n",
       "      <th>USG%</th>\n",
       "      <th>Proj. Y</th>\n",
       "    </tr>\n",
       "  </thead>\n",
       "  <tbody>\n",
       "    <tr>\n",
       "      <th>83</th>\n",
       "      <td>Nikola Jokic</td>\n",
       "      <td>5</td>\n",
       "      <td>2016</td>\n",
       "      <td>20</td>\n",
       "      <td>735</td>\n",
       "      <td>2.6</td>\n",
       "      <td>NaN</td>\n",
       "      <td>18.1</td>\n",
       "      <td>NaN</td>\n",
       "      <td>0.317</td>\n",
       "      <td>2.3</td>\n",
       "      <td>11.4</td>\n",
       "      <td>2.3</td>\n",
       "      <td>19.9</td>\n",
       "      <td>20.202913</td>\n",
       "    </tr>\n",
       "  </tbody>\n",
       "</table>\n",
       "</div>"
      ],
      "text/plain": [
       "          Player Pos  Year  Age  Cluster  OBPM  OBPM 3-4-5  AST%  AST% 3-4-5  \\\n",
       "83  Nikola Jokic   5  2016   20      735   2.6         NaN  18.1         NaN   \n",
       "\n",
       "      FTr  STL%  ORB%  BLK%  USG%    Proj. Y  \n",
       "83  0.317   2.3  11.4   2.3  19.9  20.202913  "
      ]
     },
     "execution_count": 246,
     "metadata": {},
     "output_type": "execute_result"
    }
   ],
   "source": [
    "future[future['Player'] == 'Nikola Jokic']"
   ]
  },
  {
   "cell_type": "code",
   "execution_count": null,
   "metadata": {},
   "outputs": [],
   "source": []
  }
 ],
 "metadata": {
  "kernelspec": {
   "display_name": "Python 3",
   "language": "python",
   "name": "python3"
  },
  "language_info": {
   "codemirror_mode": {
    "name": "ipython",
    "version": 3
   },
   "file_extension": ".py",
   "mimetype": "text/x-python",
   "name": "python",
   "nbconvert_exporter": "python",
   "pygments_lexer": "ipython3",
   "version": "3.6.5"
  }
 },
 "nbformat": 4,
 "nbformat_minor": 1
}
