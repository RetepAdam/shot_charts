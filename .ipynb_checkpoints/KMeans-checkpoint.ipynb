{
 "cells": [
  {
   "cell_type": "markdown",
   "metadata": {},
   "source": [
    "## Scikit-Learn Example"
   ]
  },
  {
   "cell_type": "code",
   "execution_count": 70,
   "metadata": {},
   "outputs": [
    {
     "name": "stdout",
     "output_type": "stream",
     "text": [
      "Populating the interactive namespace from numpy and matplotlib\n"
     ]
    }
   ],
   "source": [
    "import matplotlib.pyplot as plt\n",
    "from sklearn.metrics import silhouette_samples, silhouette_score\n",
    "import matplotlib.cm as cm\n",
    "from __future__ import division\n",
    "import numpy as np\n",
    "from keras.models import Sequential\n",
    "from keras.layers.core import Dense\n",
    "from keras.optimizers import SGD\n",
    "import pandas as pd\n",
    "from sklearn.model_selection import train_test_split\n",
    "import theano\n",
    "import cv2\n",
    "from sklearn import preprocessing\n",
    "%pylab inline"
   ]
  },
  {
   "cell_type": "markdown",
   "metadata": {},
   "source": [
    "### Make some sample data\n",
    "- Make synthetic 2D data with 4 'real' clusters"
   ]
  },
  {
   "cell_type": "code",
   "execution_count": 117,
   "metadata": {},
   "outputs": [
    {
     "name": "stdout",
     "output_type": "stream",
     "text": [
      "115\n"
     ]
    }
   ],
   "source": [
    "from sklearn.datasets import make_blobs\n",
    "\n",
    "df = pd.read_csv('2016-17_advanced.csv')\n",
    "df = df.groupby('Player').min()\n",
    "df.reset_index(inplace=True)\n",
    "df = df[df['MP'] >= 500]\n",
    "df = df[df['Yr'] >= 2011]\n",
    "df = df[df['Age'] <= 23]\n",
    "df.reset_index(inplace=True, drop=True)\n",
    "df2 = pd.read_csv('2016-17_advanced.csv')\n",
    "grab1 = np.array(df['Player_ID'].values)\n",
    "grab2 = np.array(df['Yr'].values)\n",
    "\n",
    "cats = []\n",
    "\n",
    "for i in range(len(grab1)):\n",
    "    df_cat = df2[df2['Player_ID'] == grab1[i]]\n",
    "    cats.extend(df_cat[df_cat['Yr'] == grab2[i] + 4].index.values)\n",
    "\n",
    "df2 = df2.iloc[cats]\n",
    "df2.reset_index(inplace=True, drop=True)\n",
    "df = df[df['Player_ID'].isin(df2['Player_ID'].values)]\n",
    "df.reset_index(inplace=True, drop=True)\n",
    "df['Player_ID'] = df['Player_ID'].astype(int)\n",
    "\n",
    "# df3 = pd.read_csv('2016-17_advanced.csv')\n",
    "# df3 = df3[df3['MP'] >= 500]\n",
    "# df3 = df3[df3['Yr'] >= 2016]\n",
    "# df3 = df3[df3['Age'] <= 23]\n",
    "# df3 = df3[~df3['Player_ID'].isin(df['Player_ID'])].groupby('Player').min()\n",
    "# df3.reset_index(inplace=True)\n",
    "\n",
    "# df = df.append(df3, ignore_index=True)\n",
    "y = np.array(df2['OBPM'].values) \n",
    "pid = np.array(df['Player_ID'].values)\n",
    "yr = np.array(df['Yr'].values)\n",
    "images = []\n",
    "for i in range(len(pid)):\n",
    "    images.append(cv2.imread('thumbnails/thumbnail_{0}_{1}-{2}.png'.format(str(pid[i]), str(yr[i]-1), str(yr[i])[-2:]), 0))\n",
    "X = np.array(images)\n",
    "flat_exes = []\n",
    "for i in range(len(X)):\n",
    "    flat_exes.append(X[i].flatten())\n",
    "X = np.array(flat_exes)\n",
    "print(len(X))"
   ]
  },
  {
   "cell_type": "markdown",
   "metadata": {},
   "source": [
    "#### Scatterplot of sample data"
   ]
  },
  {
   "cell_type": "code",
   "execution_count": 42,
   "metadata": {},
   "outputs": [
    {
     "data": {
      "text/plain": [
       "<matplotlib.collections.PathCollection at 0x102036240>"
      ]
     },
     "execution_count": 42,
     "metadata": {},
     "output_type": "execute_result"
    },
    {
     "data": {
      "image/png": "[encoded data removed]",
      "text/plain": [
       "<matplotlib.figure.Figure at 0x116da27f0>"
      ]
     },
     "metadata": {},
     "output_type": "display_data"
    }
   ],
   "source": [
    "plt.scatter(X[:,0], X[:,1])"
   ]
  },
  {
   "cell_type": "markdown",
   "metadata": {},
   "source": [
    "### Use 'Elbow' method to find optimal value of K"
   ]
  },
  {
   "cell_type": "code",
   "execution_count": 43,
   "metadata": {},
   "outputs": [
    {
     "data": {
      "text/plain": [
       "<matplotlib.text.Text at 0x12027f8d0>"
      ]
     },
     "execution_count": 43,
     "metadata": {},
     "output_type": "execute_result"
    },
    {
     "data": {
      "image/png": "[encoded data removed]",
      "text/plain": [
       "<matplotlib.figure.Figure at 0x11ef53390>"
      ]
     },
     "metadata": {},
     "output_type": "display_data"
    }
   ],
   "source": [
    "from sklearn.cluster import KMeans\n",
    "ncluster_list = range(1,21)\n",
    "\n",
    "def kmean_score(nclust):\n",
    "    km = KMeans(nclust)\n",
    "    km.fit(X)\n",
    "    rss = -km.score(X)\n",
    "    return rss\n",
    "scores = [kmean_score(i) for i in range(1,21)]\n",
    "plt.plot(range(1,21), scores)\n",
    "plt.xlabel('K')\n",
    "plt.ylabel('RSS')\n",
    "plt.title('RSS versus K')\n"
   ]
  },
  {
   "cell_type": "markdown",
   "metadata": {},
   "source": [
    "### Use Silhouette scores to find optimal value of K"
   ]
  },
  {
   "cell_type": "code",
   "execution_count": 173,
   "metadata": {},
   "outputs": [
    {
     "data": {
      "text/plain": [
       "<matplotlib.text.Text at 0x122a30518>"
      ]
     },
     "execution_count": 173,
     "metadata": {},
     "output_type": "execute_result"
    },
    {
     "data": {
      "image/png": "[encoded data removed]",
      "text/plain": [
       "<matplotlib.figure.Figure at 0x123446b38>"
      ]
     },
     "metadata": {},
     "output_type": "display_data"
    }
   ],
   "source": [
    "from sklearn.metrics import silhouette_score\n",
    "def get_silhouette_score(nclust):\n",
    "    km = KMeans(nclust)\n",
    "    km.fit(X)\n",
    "    sil_avg = silhouette_score(X, km.labels_)\n",
    "    return sil_avg\n",
    "sil_scores = [get_silhouette_score(i) for i in range(40,50)]\n",
    "plt.plot(range(40,50), sil_scores)\n",
    "plt.xlabel('K')\n",
    "plt.ylabel('Silhouette Score')\n",
    "plt.title('Silhouette Score vs K')\n"
   ]
  },
  {
   "cell_type": "markdown",
   "metadata": {},
   "source": [
    "The maximum silhouette score is at 2 and there is a local maximum at 4"
   ]
  },
  {
   "cell_type": "markdown",
   "metadata": {},
   "source": [
    "### Silhouette Plots provide even more detail about each clustering"
   ]
  },
  {
   "cell_type": "code",
   "execution_count": 45,
   "metadata": {
    "collapsed": true,
    "scrolled": false
   },
   "outputs": [],
   "source": [
    "# from helper import cluster_and_plot\n",
    "# for i in range(8,15):\n",
    "#     cluster_and_plot(X, i)"
   ]
  },
  {
   "cell_type": "code",
   "execution_count": 174,
   "metadata": {},
   "outputs": [
    {
     "name": "stdout",
     "output_type": "stream",
     "text": [
      "For n_clusters = 44 The average silhouette_score is : 0.497686979589\n"
     ]
    }
   ],
   "source": [
    "from sklearn.datasets import make_blobs\n",
    "from sklearn.cluster import KMeans\n",
    "from sklearn.metrics import silhouette_samples, silhouette_score\n",
    "\n",
    "import matplotlib.pyplot as plt\n",
    "import matplotlib.cm as cm\n",
    "import numpy as np\n",
    "\n",
    "n_clusters = 44\n",
    "\n",
    "clusterer = KMeans(n_clusters=n_clusters, random_state=10)\n",
    "cluster_labels = clusterer.fit_predict(X)\n",
    "\n",
    "# The silhouette_score gives the average value for all the samples.\n",
    "# This gives a perspective into the density and separation of the formed\n",
    "# clusters\n",
    "silhouette_avg = silhouette_score(X, cluster_labels)\n",
    "print(\"For n_clusters =\", n_clusters,\n",
    "      \"The average silhouette_score is :\", silhouette_avg)\n",
    "\n",
    "# Compute the silhouette scores for each sample\n",
    "sample_silhouette_values = silhouette_samples(X, cluster_labels)"
   ]
  },
  {
   "cell_type": "code",
   "execution_count": 175,
   "metadata": {},
   "outputs": [],
   "source": [
    "#need to figure out how these are getting mapped\n",
    "\n",
    "df['cluster'] = cluster_labels"
   ]
  },
  {
   "cell_type": "code",
   "execution_count": 177,
   "metadata": {},
   "outputs": [
    {
     "data": {
      "text/html": [
       "<div>\n",
       "<table border=\"1\" class=\"dataframe\">\n",
       "  <thead>\n",
       "    <tr style=\"text-align: right;\">\n",
       "      <th></th>\n",
       "      <th>Player</th>\n",
       "      <th>Player_ID</th>\n",
       "      <th>Pos</th>\n",
       "      <th>Age</th>\n",
       "      <th>Tm</th>\n",
       "      <th>G</th>\n",
       "      <th>MP</th>\n",
       "      <th>PER</th>\n",
       "      <th>TS%</th>\n",
       "      <th>3PAr</th>\n",
       "      <th>...</th>\n",
       "      <th>OWS</th>\n",
       "      <th>DWS</th>\n",
       "      <th>WS</th>\n",
       "      <th>WS/48</th>\n",
       "      <th>OBPM</th>\n",
       "      <th>DBPM</th>\n",
       "      <th>BPM</th>\n",
       "      <th>VORP</th>\n",
       "      <th>Yr</th>\n",
       "      <th>cluster</th>\n",
       "    </tr>\n",
       "  </thead>\n",
       "  <tbody>\n",
       "    <tr>\n",
       "      <th>33</th>\n",
       "      <td>Evan Fournier</td>\n",
       "      <td>203095</td>\n",
       "      <td>SF</td>\n",
       "      <td>21</td>\n",
       "      <td>DEN</td>\n",
       "      <td>57</td>\n",
       "      <td>1503</td>\n",
       "      <td>10.3</td>\n",
       "      <td>0.533</td>\n",
       "      <td>0.387</td>\n",
       "      <td>...</td>\n",
       "      <td>0.6</td>\n",
       "      <td>0.6</td>\n",
       "      <td>1.4</td>\n",
       "      <td>0.043</td>\n",
       "      <td>-0.9</td>\n",
       "      <td>-2.3</td>\n",
       "      <td>-2.5</td>\n",
       "      <td>-0.2</td>\n",
       "      <td>2014</td>\n",
       "      <td>0</td>\n",
       "    </tr>\n",
       "    <tr>\n",
       "      <th>38</th>\n",
       "      <td>Gordon Hayward</td>\n",
       "      <td>202330</td>\n",
       "      <td>PF</td>\n",
       "      <td>20</td>\n",
       "      <td>BOS</td>\n",
       "      <td>66</td>\n",
       "      <td>1218</td>\n",
       "      <td>10.7</td>\n",
       "      <td>0.520</td>\n",
       "      <td>0.253</td>\n",
       "      <td>...</td>\n",
       "      <td>0.8</td>\n",
       "      <td>0.4</td>\n",
       "      <td>1.2</td>\n",
       "      <td>0.048</td>\n",
       "      <td>-1.4</td>\n",
       "      <td>-1.4</td>\n",
       "      <td>-2.8</td>\n",
       "      <td>-0.2</td>\n",
       "      <td>2011</td>\n",
       "      <td>0</td>\n",
       "    </tr>\n",
       "    <tr>\n",
       "      <th>48</th>\n",
       "      <td>Jeremy Lamb</td>\n",
       "      <td>203087</td>\n",
       "      <td>SG</td>\n",
       "      <td>21</td>\n",
       "      <td>CHO</td>\n",
       "      <td>47</td>\n",
       "      <td>633</td>\n",
       "      <td>13.4</td>\n",
       "      <td>0.522</td>\n",
       "      <td>0.297</td>\n",
       "      <td>...</td>\n",
       "      <td>1.0</td>\n",
       "      <td>0.7</td>\n",
       "      <td>1.6</td>\n",
       "      <td>0.102</td>\n",
       "      <td>-0.8</td>\n",
       "      <td>-1.6</td>\n",
       "      <td>-1.7</td>\n",
       "      <td>0.1</td>\n",
       "      <td>2014</td>\n",
       "      <td>0</td>\n",
       "    </tr>\n",
       "    <tr>\n",
       "      <th>61</th>\n",
       "      <td>Kentavious Caldwell-Pope</td>\n",
       "      <td>203484</td>\n",
       "      <td>SG</td>\n",
       "      <td>20</td>\n",
       "      <td>DET</td>\n",
       "      <td>74</td>\n",
       "      <td>1583</td>\n",
       "      <td>9.4</td>\n",
       "      <td>0.483</td>\n",
       "      <td>0.384</td>\n",
       "      <td>...</td>\n",
       "      <td>1.0</td>\n",
       "      <td>0.8</td>\n",
       "      <td>1.8</td>\n",
       "      <td>0.052</td>\n",
       "      <td>-1.2</td>\n",
       "      <td>-1.2</td>\n",
       "      <td>-2.1</td>\n",
       "      <td>0.0</td>\n",
       "      <td>2014</td>\n",
       "      <td>0</td>\n",
       "    </tr>\n",
       "    <tr>\n",
       "      <th>72</th>\n",
       "      <td>Marcus Morris</td>\n",
       "      <td>202694</td>\n",
       "      <td>PF</td>\n",
       "      <td>23</td>\n",
       "      <td>BOS</td>\n",
       "      <td>54</td>\n",
       "      <td>1447</td>\n",
       "      <td>11.3</td>\n",
       "      <td>0.508</td>\n",
       "      <td>0.315</td>\n",
       "      <td>...</td>\n",
       "      <td>0.6</td>\n",
       "      <td>1.2</td>\n",
       "      <td>1.8</td>\n",
       "      <td>0.058</td>\n",
       "      <td>-1.0</td>\n",
       "      <td>-1.0</td>\n",
       "      <td>-1.9</td>\n",
       "      <td>0.0</td>\n",
       "      <td>2013</td>\n",
       "      <td>0</td>\n",
       "    </tr>\n",
       "    <tr>\n",
       "      <th>84</th>\n",
       "      <td>Nikola Mirotic</td>\n",
       "      <td>202703</td>\n",
       "      <td>PF</td>\n",
       "      <td>23</td>\n",
       "      <td>CHI</td>\n",
       "      <td>46</td>\n",
       "      <td>1245</td>\n",
       "      <td>14.5</td>\n",
       "      <td>0.546</td>\n",
       "      <td>0.502</td>\n",
       "      <td>...</td>\n",
       "      <td>1.3</td>\n",
       "      <td>1.4</td>\n",
       "      <td>3.5</td>\n",
       "      <td>0.108</td>\n",
       "      <td>0.0</td>\n",
       "      <td>-1.2</td>\n",
       "      <td>0.0</td>\n",
       "      <td>0.6</td>\n",
       "      <td>2015</td>\n",
       "      <td>0</td>\n",
       "    </tr>\n",
       "  </tbody>\n",
       "</table>\n",
       "<p>6 rows × 29 columns</p>\n",
       "</div>"
      ],
      "text/plain": [
       "                      Player  Player_ID Pos  Age   Tm   G    MP   PER    TS%  \\\n",
       "33             Evan Fournier     203095  SF   21  DEN  57  1503  10.3  0.533   \n",
       "38            Gordon Hayward     202330  PF   20  BOS  66  1218  10.7  0.520   \n",
       "48               Jeremy Lamb     203087  SG   21  CHO  47   633  13.4  0.522   \n",
       "61  Kentavious Caldwell-Pope     203484  SG   20  DET  74  1583   9.4  0.483   \n",
       "72             Marcus Morris     202694  PF   23  BOS  54  1447  11.3  0.508   \n",
       "84            Nikola Mirotic     202703  PF   23  CHI  46  1245  14.5  0.546   \n",
       "\n",
       "     3PAr   ...     OWS  DWS   WS  WS/48  OBPM  DBPM  BPM  VORP    Yr  cluster  \n",
       "33  0.387   ...     0.6  0.6  1.4  0.043  -0.9  -2.3 -2.5  -0.2  2014        0  \n",
       "38  0.253   ...     0.8  0.4  1.2  0.048  -1.4  -1.4 -2.8  -0.2  2011        0  \n",
       "48  0.297   ...     1.0  0.7  1.6  0.102  -0.8  -1.6 -1.7   0.1  2014        0  \n",
       "61  0.384   ...     1.0  0.8  1.8  0.052  -1.2  -1.2 -2.1   0.0  2014        0  \n",
       "72  0.315   ...     0.6  1.2  1.8  0.058  -1.0  -1.0 -1.9   0.0  2013        0  \n",
       "84  0.502   ...     1.3  1.4  3.5  0.108   0.0  -1.2  0.0   0.6  2015        0  \n",
       "\n",
       "[6 rows x 29 columns]"
      ]
     },
     "execution_count": 177,
     "metadata": {},
     "output_type": "execute_result"
    }
   ],
   "source": [
    "df[df['cluster'] == 0]"
   ]
  },
  {
   "cell_type": "code",
   "execution_count": null,
   "metadata": {},
   "outputs": [
    {
     "name": "stdout",
     "output_type": "stream",
     "text": [
      "\n",
      "First 5 labels of y_train:  [-0.5  1.1  0.5  1.4 -0.9]\n",
      "Train on 68 samples, validate on 18 samples\n",
      "Epoch 1/98\n",
      "68/68 [==============================] - 3s - loss: 1.5961 - mean_squared_error: 4.3319 - val_loss: 1.7084 - val_mean_squared_error: 4.9810\n",
      "Epoch 2/98\n",
      "68/68 [==============================] - 3s - loss: 1.4982 - mean_squared_error: 3.7889 - val_loss: 1.6570 - val_mean_squared_error: 4.3024\n",
      "Epoch 3/98\n",
      "68/68 [==============================] - 3s - loss: 1.3900 - mean_squared_error: 3.4508 - val_loss: 1.5883 - val_mean_squared_error: 3.8862\n",
      "Epoch 4/98\n",
      "68/68 [==============================] - 4s - loss: 1.4791 - mean_squared_error: 3.6151 - val_loss: 1.5230 - val_mean_squared_error: 3.9673\n",
      "Epoch 5/98\n",
      "68/68 [==============================] - 4s - loss: 1.2867 - mean_squared_error: 2.8814 - val_loss: 1.5042 - val_mean_squared_error: 4.0349\n",
      "Epoch 6/98\n",
      "68/68 [==============================] - 3s - loss: 1.2780 - mean_squared_error: 2.9024 - val_loss: 1.4432 - val_mean_squared_error: 3.5040\n",
      "Epoch 7/98\n",
      "68/68 [==============================] - 4s - loss: 1.3814 - mean_squared_error: 3.2164 - val_loss: 1.6650 - val_mean_squared_error: 4.3509\n",
      "Epoch 8/98\n",
      "68/68 [==============================] - 4s - loss: 1.2678 - mean_squared_error: 2.8971 - val_loss: 1.5945 - val_mean_squared_error: 4.1845\n",
      "Epoch 9/98\n",
      "68/68 [==============================] - 4s - loss: 1.2812 - mean_squared_error: 2.7784 - val_loss: 1.4352 - val_mean_squared_error: 3.5535\n",
      "Epoch 10/98\n",
      "68/68 [==============================] - 4s - loss: 1.2521 - mean_squared_error: 2.6412 - val_loss: 1.5421 - val_mean_squared_error: 3.6771\n",
      "Epoch 11/98\n",
      "68/68 [==============================] - 3s - loss: 1.2278 - mean_squared_error: 2.7395 - val_loss: 1.4341 - val_mean_squared_error: 3.1452\n",
      "Epoch 12/98\n",
      "68/68 [==============================] - 4s - loss: 1.3129 - mean_squared_error: 2.7545 - val_loss: 1.2845 - val_mean_squared_error: 2.7700\n",
      "Epoch 13/98\n",
      "68/68 [==============================] - 4s - loss: 1.2609 - mean_squared_error: 2.7413 - val_loss: 1.6517 - val_mean_squared_error: 3.8071\n",
      "Epoch 14/98\n",
      "68/68 [==============================] - 4s - loss: 1.1519 - mean_squared_error: 2.5373 - val_loss: 1.3293 - val_mean_squared_error: 2.8051\n",
      "Epoch 15/98\n",
      "68/68 [==============================] - 4s - loss: 1.2728 - mean_squared_error: 2.9117 - val_loss: 1.6724 - val_mean_squared_error: 3.8092\n",
      "Epoch 16/98\n",
      "68/68 [==============================] - 3s - loss: 1.2901 - mean_squared_error: 2.7685 - val_loss: 1.6926 - val_mean_squared_error: 4.0868\n",
      "Epoch 17/98\n",
      "68/68 [==============================] - 4s - loss: 1.2736 - mean_squared_error: 2.8082 - val_loss: 1.5393 - val_mean_squared_error: 3.5272\n",
      "Epoch 18/98\n",
      "68/68 [==============================] - 4s - loss: 1.2557 - mean_squared_error: 2.7239 - val_loss: 1.2613 - val_mean_squared_error: 2.7004\n",
      "Epoch 19/98\n",
      "68/68 [==============================] - 4s - loss: 1.2309 - mean_squared_error: 2.5162 - val_loss: 1.3345 - val_mean_squared_error: 2.7095\n",
      "Epoch 20/98\n",
      "68/68 [==============================] - 4s - loss: 1.1768 - mean_squared_error: 2.3445 - val_loss: 1.6136 - val_mean_squared_error: 3.5366\n",
      "Epoch 21/98\n",
      "68/68 [==============================] - 4s - loss: 1.1957 - mean_squared_error: 2.4266 - val_loss: 1.4056 - val_mean_squared_error: 2.9229\n",
      "Epoch 22/98\n",
      "68/68 [==============================] - 4s - loss: 1.2784 - mean_squared_error: 2.7184 - val_loss: 1.2162 - val_mean_squared_error: 2.3628\n",
      "Epoch 23/98\n",
      "68/68 [==============================] - 4s - loss: 1.1880 - mean_squared_error: 2.4370 - val_loss: 1.4039 - val_mean_squared_error: 2.8703\n",
      "Epoch 24/98\n",
      "68/68 [==============================] - 4s - loss: 1.1322 - mean_squared_error: 2.2770 - val_loss: 1.3305 - val_mean_squared_error: 2.7479\n",
      "Epoch 25/98\n",
      "68/68 [==============================] - 4s - loss: 1.1857 - mean_squared_error: 2.3685 - val_loss: 1.4696 - val_mean_squared_error: 3.0786\n",
      "Epoch 26/98\n",
      "68/68 [==============================] - 4s - loss: 1.1683 - mean_squared_error: 2.4989 - val_loss: 1.7784 - val_mean_squared_error: 4.1176\n",
      "Epoch 27/98\n",
      "68/68 [==============================] - 5s - loss: 1.2666 - mean_squared_error: 2.4127 - val_loss: 1.3165 - val_mean_squared_error: 2.4769\n",
      "Epoch 28/98\n",
      "68/68 [==============================] - 4s - loss: 1.1247 - mean_squared_error: 2.0871 - val_loss: 1.2802 - val_mean_squared_error: 2.4252\n",
      "Epoch 29/98\n",
      "68/68 [==============================] - 4s - loss: 1.1707 - mean_squared_error: 2.3332 - val_loss: 1.6479 - val_mean_squared_error: 3.6106\n",
      "Epoch 30/98\n",
      "68/68 [==============================] - 4s - loss: 1.1441 - mean_squared_error: 2.2781 - val_loss: 1.5624 - val_mean_squared_error: 3.3068\n",
      "Epoch 31/98\n",
      "68/68 [==============================] - 4s - loss: 1.1516 - mean_squared_error: 2.2516 - val_loss: 1.2084 - val_mean_squared_error: 2.2652\n",
      "Epoch 32/98\n",
      "68/68 [==============================] - 4s - loss: 1.2901 - mean_squared_error: 2.5197 - val_loss: 1.5034 - val_mean_squared_error: 3.1199\n",
      "Epoch 33/98\n",
      "68/68 [==============================] - 3s - loss: 1.1298 - mean_squared_error: 2.2687 - val_loss: 1.4843 - val_mean_squared_error: 3.0559\n",
      "Epoch 34/98\n",
      "68/68 [==============================] - 3s - loss: 1.1570 - mean_squared_error: 2.2824 - val_loss: 1.5323 - val_mean_squared_error: 3.1866\n",
      "Epoch 35/98\n",
      "68/68 [==============================] - 3s - loss: 1.2199 - mean_squared_error: 2.6377 - val_loss: 1.6228 - val_mean_squared_error: 3.4820\n",
      "Epoch 36/98\n",
      "68/68 [==============================] - 4s - loss: 1.3132 - mean_squared_error: 2.7560 - val_loss: 1.3325 - val_mean_squared_error: 2.5880\n",
      "Epoch 37/98\n",
      "68/68 [==============================] - 4s - loss: 1.1259 - mean_squared_error: 2.2689 - val_loss: 1.5904 - val_mean_squared_error: 3.3321\n",
      "Epoch 38/98\n",
      "68/68 [==============================] - 4s - loss: 1.2324 - mean_squared_error: 2.4966 - val_loss: 1.4003 - val_mean_squared_error: 2.7680\n",
      "Epoch 39/98\n",
      "68/68 [==============================] - 4s - loss: 1.1618 - mean_squared_error: 2.3190 - val_loss: 1.2366 - val_mean_squared_error: 2.3003\n",
      "Epoch 40/98\n",
      "68/68 [==============================] - 4s - loss: 1.1809 - mean_squared_error: 2.3626 - val_loss: 1.6892 - val_mean_squared_error: 3.6381\n",
      "Epoch 41/98\n",
      "68/68 [==============================] - 4s - loss: 1.3844 - mean_squared_error: 2.8200 - val_loss: 1.2246 - val_mean_squared_error: 2.1931\n",
      "Epoch 42/98\n",
      "68/68 [==============================] - 5s - loss: 1.0901 - mean_squared_error: 2.1048 - val_loss: 1.5029 - val_mean_squared_error: 3.0540\n",
      "Epoch 43/98\n",
      "68/68 [==============================] - 5s - loss: 1.1355 - mean_squared_error: 2.3775 - val_loss: 1.5718 - val_mean_squared_error: 3.2822\n",
      "Epoch 44/98\n",
      "68/68 [==============================] - 4s - loss: 1.1095 - mean_squared_error: 2.2134 - val_loss: 1.3192 - val_mean_squared_error: 2.5165\n",
      "Epoch 45/98\n",
      "68/68 [==============================] - 4s - loss: 1.1144 - mean_squared_error: 2.2488 - val_loss: 1.5105 - val_mean_squared_error: 3.1582\n",
      "Epoch 46/98\n",
      "68/68 [==============================] - 4s - loss: 1.1706 - mean_squared_error: 2.3310 - val_loss: 1.6541 - val_mean_squared_error: 3.6442\n",
      "Epoch 47/98\n",
      "68/68 [==============================] - 5s - loss: 1.1250 - mean_squared_error: 2.1161 - val_loss: 1.2005 - val_mean_squared_error: 2.2755\n",
      "Epoch 48/98\n",
      "68/68 [==============================] - 5s - loss: 1.1615 - mean_squared_error: 2.2490 - val_loss: 1.3645 - val_mean_squared_error: 2.5736\n",
      "Epoch 49/98\n",
      "68/68 [==============================] - 5s - loss: 1.0933 - mean_squared_error: 2.1565 - val_loss: 1.5319 - val_mean_squared_error: 3.1349\n",
      "Epoch 50/98\n",
      "68/68 [==============================] - 5s - loss: 1.1032 - mean_squared_error: 2.1344 - val_loss: 1.3844 - val_mean_squared_error: 2.6645\n",
      "Epoch 51/98\n",
      "68/68 [==============================] - 5s - loss: 1.1202 - mean_squared_error: 2.2852 - val_loss: 1.6930 - val_mean_squared_error: 3.6578\n",
      "Epoch 52/98\n",
      "68/68 [==============================] - 4s - loss: 1.1370 - mean_squared_error: 2.1910 - val_loss: 1.4196 - val_mean_squared_error: 2.8399\n",
      "Epoch 53/98\n",
      "68/68 [==============================] - 4s - loss: 1.1062 - mean_squared_error: 2.1871 - val_loss: 1.3982 - val_mean_squared_error: 2.7535\n",
      "Epoch 54/98\n"
     ]
    },
    {
     "name": "stdout",
     "output_type": "stream",
     "text": [
      "68/68 [==============================] - 4s - loss: 1.1439 - mean_squared_error: 2.3584 - val_loss: 1.5785 - val_mean_squared_error: 3.3615\n",
      "Epoch 55/98\n",
      "68/68 [==============================] - 4s - loss: 1.1130 - mean_squared_error: 2.0864 - val_loss: 1.2134 - val_mean_squared_error: 2.2540\n",
      "Epoch 56/98\n",
      "68/68 [==============================] - 3s - loss: 1.1405 - mean_squared_error: 2.1105 - val_loss: 1.1207 - val_mean_squared_error: 2.0593\n",
      "Epoch 57/98\n",
      "68/68 [==============================] - 3s - loss: 1.1788 - mean_squared_error: 2.1776 - val_loss: 1.3512 - val_mean_squared_error: 2.5843\n",
      "Epoch 58/98\n",
      "68/68 [==============================] - 3s - loss: 1.1490 - mean_squared_error: 2.2179 - val_loss: 1.5887 - val_mean_squared_error: 3.3272\n",
      "Epoch 59/98\n",
      "68/68 [==============================] - 3s - loss: 1.0765 - mean_squared_error: 2.1143 - val_loss: 1.2041 - val_mean_squared_error: 2.1201\n",
      "Epoch 60/98\n",
      "68/68 [==============================] - 4s - loss: 1.1340 - mean_squared_error: 2.3331 - val_loss: 1.3223 - val_mean_squared_error: 2.5221\n",
      "Epoch 61/98\n",
      "68/68 [==============================] - 4s - loss: 1.0828 - mean_squared_error: 2.1776 - val_loss: 1.4264 - val_mean_squared_error: 2.8522\n",
      "Epoch 62/98\n",
      "68/68 [==============================] - 4s - loss: 1.1542 - mean_squared_error: 2.2503 - val_loss: 1.7426 - val_mean_squared_error: 3.7915\n",
      "Epoch 63/98\n",
      "68/68 [==============================] - 4s - loss: 1.0990 - mean_squared_error: 2.0838 - val_loss: 1.4706 - val_mean_squared_error: 2.9875\n",
      "Epoch 64/98\n",
      "68/68 [==============================] - 3s - loss: 1.0640 - mean_squared_error: 2.1892 - val_loss: 1.3092 - val_mean_squared_error: 2.5070\n",
      "Epoch 65/98\n",
      "68/68 [==============================] - 3s - loss: 1.0674 - mean_squared_error: 1.9492 - val_loss: 1.3805 - val_mean_squared_error: 2.7553\n",
      "Epoch 66/98\n",
      "68/68 [==============================] - 4s - loss: 1.0857 - mean_squared_error: 2.1515 - val_loss: 1.8535 - val_mean_squared_error: 4.1953\n",
      "Epoch 67/98\n",
      "68/68 [==============================] - 4s - loss: 1.3410 - mean_squared_error: 2.7415 - val_loss: 1.1209 - val_mean_squared_error: 2.1819\n",
      "Epoch 68/98\n",
      "68/68 [==============================] - 4s - loss: 1.2503 - mean_squared_error: 2.5192 - val_loss: 1.3972 - val_mean_squared_error: 2.7763\n",
      "Epoch 69/98\n",
      "68/68 [==============================] - 4s - loss: 1.1088 - mean_squared_error: 2.1190 - val_loss: 1.3786 - val_mean_squared_error: 2.7269\n",
      "Epoch 70/98\n",
      "68/68 [==============================] - 4s - loss: 1.1200 - mean_squared_error: 2.2584 - val_loss: 1.1577 - val_mean_squared_error: 2.1511\n",
      "Epoch 71/98\n",
      "68/68 [==============================] - 3s - loss: 1.0602 - mean_squared_error: 2.0395 - val_loss: 1.3295 - val_mean_squared_error: 2.6181\n",
      "Epoch 72/98\n",
      "68/68 [==============================] - 3s - loss: 1.1816 - mean_squared_error: 2.4191 - val_loss: 1.3151 - val_mean_squared_error: 2.4331\n",
      "Epoch 73/98\n",
      "68/68 [==============================] - 3s - loss: 1.0477 - mean_squared_error: 1.9819 - val_loss: 1.2661 - val_mean_squared_error: 2.2698\n",
      "Epoch 74/98\n",
      "68/68 [==============================] - 3s - loss: 1.0186 - mean_squared_error: 1.8429 - val_loss: 2.0509 - val_mean_squared_error: 4.9381\n",
      "Epoch 75/98\n",
      "68/68 [==============================] - 3s - loss: 1.1569 - mean_squared_error: 2.1460 - val_loss: 1.3575 - val_mean_squared_error: 2.5093\n",
      "Epoch 76/98\n",
      "68/68 [==============================] - 4s - loss: 1.1435 - mean_squared_error: 2.2780 - val_loss: 1.3356 - val_mean_squared_error: 2.4971\n",
      "Epoch 77/98\n",
      "68/68 [==============================] - 4s - loss: 1.1583 - mean_squared_error: 2.2780 - val_loss: 1.4793 - val_mean_squared_error: 2.9603\n",
      "Epoch 78/98\n",
      "68/68 [==============================] - 3s - loss: 1.0456 - mean_squared_error: 2.0560 - val_loss: 1.3843 - val_mean_squared_error: 2.7336\n",
      "Epoch 79/98\n",
      "68/68 [==============================] - 4s - loss: 1.0759 - mean_squared_error: 2.1039 - val_loss: 1.6860 - val_mean_squared_error: 3.5333\n",
      "Epoch 80/98\n",
      "68/68 [==============================] - 4s - loss: 1.0921 - mean_squared_error: 2.0562 - val_loss: 1.1367 - val_mean_squared_error: 2.0444\n",
      "Epoch 81/98\n",
      "68/68 [==============================] - 4s - loss: 1.0399 - mean_squared_error: 2.0139 - val_loss: 1.8784 - val_mean_squared_error: 4.2507\n",
      "Epoch 82/98\n",
      "68/68 [==============================] - 6s - loss: 1.1239 - mean_squared_error: 2.1658 - val_loss: 1.1877 - val_mean_squared_error: 2.1267\n",
      "Epoch 83/98\n",
      "68/68 [==============================] - 3s - loss: 1.1502 - mean_squared_error: 2.3377 - val_loss: 1.2591 - val_mean_squared_error: 2.3649\n",
      "Epoch 84/98\n",
      "68/68 [==============================] - 4s - loss: 1.1271 - mean_squared_error: 2.0088 - val_loss: 1.0231 - val_mean_squared_error: 1.8404\n",
      "Epoch 85/98\n",
      "68/68 [==============================] - 8s - loss: 1.0648 - mean_squared_error: 1.8944 - val_loss: 1.9642 - val_mean_squared_error: 4.5855\n",
      "Epoch 86/98\n",
      "68/68 [==============================] - 4s - loss: 1.1423 - mean_squared_error: 2.1449 - val_loss: 1.6925 - val_mean_squared_error: 3.5652\n",
      "Epoch 87/98\n",
      "68/68 [==============================] - 5s - loss: 1.0710 - mean_squared_error: 1.7819 - val_loss: 1.2148 - val_mean_squared_error: 2.1873\n",
      "Epoch 88/98\n",
      "68/68 [==============================] - 7s - loss: 1.1073 - mean_squared_error: 2.0946 - val_loss: 1.5418 - val_mean_squared_error: 3.2168\n",
      "Epoch 89/98\n",
      "68/68 [==============================] - 3s - loss: 1.0785 - mean_squared_error: 2.2023 - val_loss: 1.5161 - val_mean_squared_error: 2.9432\n",
      "Epoch 90/98\n",
      "68/68 [==============================] - 3s - loss: 1.0186 - mean_squared_error: 1.8249 - val_loss: 1.2468 - val_mean_squared_error: 2.3323\n",
      "Epoch 91/98\n",
      "68/68 [==============================] - 8s - loss: 1.0601 - mean_squared_error: 1.9585 - val_loss: 1.3215 - val_mean_squared_error: 2.4350\n",
      "Epoch 92/98\n",
      "68/68 [==============================] - 4s - loss: 1.1298 - mean_squared_error: 2.0275 - val_loss: 1.7300 - val_mean_squared_error: 3.6018\n",
      "Epoch 93/98\n",
      "68/68 [==============================] - 6s - loss: 1.0461 - mean_squared_error: 1.9844 - val_loss: 1.4487 - val_mean_squared_error: 2.7610\n",
      "Epoch 94/98\n",
      "68/68 [==============================] - 9s - loss: 1.1895 - mean_squared_error: 2.1602 - val_loss: 1.1221 - val_mean_squared_error: 1.9600\n",
      "Epoch 95/98\n",
      "24/68 [=========>....................] - ETA: 4s - loss: 1.0636 - mean_squared_error: 1.8402"
     ]
    }
   ],
   "source": [
    "from __future__ import division\n",
    "import numpy as np\n",
    "from keras.models import Sequential\n",
    "from keras.layers.core import Dense\n",
    "from keras.optimizers import SGD\n",
    "import pandas as pd\n",
    "from sklearn.model_selection import train_test_split\n",
    "import theano\n",
    "import cv2\n",
    "from sklearn import preprocessing\n",
    "\n",
    "def load_and_condition_data():\n",
    "    X_train, X_test, y_train, y_test = train_test_split(X, y, test_size=0.25, random_state=21)\n",
    "    X_train.resize(y_train.shape[0], (X_train.size//y_train.shape[0])) # 28 pix x 28 pix = 784 pixels\n",
    "    X_test.resize(y_test.shape[0], (X_test.size//y_test.shape[0]))\n",
    "    theano.config.floatX = 'float32'\n",
    "    X_train = X_train.astype(theano.config.floatX) #before conversion were uint8\n",
    "    X_test = X_test.astype(theano.config.floatX)\n",
    "    print('\\nFirst 5 labels of y_train: ', y_train[:5])\n",
    "    return X_train, y_train, X_test, y_test\n",
    "\n",
    "def define_nn_mlp_model(X_train, y_train):#_ohe):\n",
    "    ''' defines multi-layer-perceptron neural network '''\n",
    "    # available activation functions at:\n",
    "    # https://keras.io/activations/\n",
    "    # https://en.wikipedia.org/wiki/Activation_function\n",
    "    # options: 'linear', 'sigmoid', 'tanh', 'relu', 'softplus', 'softsign'\n",
    "    # there are other ways to initialize the weights besides 'uniform', too\n",
    "\n",
    "    model = Sequential() # sequence of layers\n",
    "    num_neurons_in_layer = 500 # number of neurons in a layer\n",
    "    num_inputs = X_train.shape[1] # number of features (684288)\n",
    "    model.add(Dense(input_dim=num_inputs,\n",
    "                     units=num_neurons_in_layer,\n",
    "                     activation='tanh')) # only 12 neurons in this layer!\n",
    "    model.add(Dense(input_dim=num_neurons_in_layer,\n",
    "                     units=1,\n",
    "                     activation='linear')) # only 12 neurons - keep softmax at last layer\n",
    "    sgd = SGD(lr=0.3, decay=1e-7, momentum=0.35) # using stochastic gradient descent (keep)\n",
    "    model.compile(loss='mae', optimizer='adam', metrics=['mse'] ) # (keep)\n",
    "    return model\n",
    "\n",
    "\n",
    "rng_seed = 21 # set random number generator seed\n",
    "X = np.array(df[['OBPM', 'AST%', 'TS%', 'cluster', 'Age']].values)\n",
    "X_train, y_train, X_test, y_test = load_and_condition_data() #, y_train_ohe = load_and_condition_data()\n",
    "np.random.seed(rng_seed)\n",
    "model = define_nn_mlp_model(X_train, y_train) #ohe\n",
    "model.fit(X_train, y_train, epochs=100, batch_size=4, verbose=1,\n",
    "          validation_split=0.2) # cross val to estimate test error #ohe"
   ]
  },
  {
   "cell_type": "code",
   "execution_count": 220,
   "metadata": {},
   "outputs": [],
   "source": [
    "yo = model.predict(X_test)"
   ]
  },
  {
   "cell_type": "code",
   "execution_count": 221,
   "metadata": {},
   "outputs": [
    {
     "name": "stdout",
     "output_type": "stream",
     "text": [
      "[-0.51083899] -1.2\n",
      "[-0.97884411] -0.7\n",
      "[-1.81885719] -1.6\n",
      "[-0.35177252] -1.7\n",
      "[-1.47188556] 2.5\n",
      "[ 0.0760726] 1.5\n",
      "[ 1.00198376] -0.2\n",
      "[-1.92241979] -1.2\n",
      "[-2.73705029] -3.7\n",
      "[-0.42595088] 3.9\n",
      "[-1.12675178] 2.4\n",
      "[-0.54863667] -1.3\n",
      "[-0.54868704] -2.1\n",
      "[-0.66140151] -2.6\n",
      "[-1.1208719] -2.6\n",
      "[-1.61261892] 0.7\n",
      "[ 0.70061249] 1.7\n",
      "[ 1.339221] -0.9\n",
      "[ 2.01400495] 3.1\n",
      "[ 0.24672374] -0.5\n",
      "[-0.86353141] -2.1\n",
      "[-4.01162338] 1.5\n",
      "[-1.87838531] -0.1\n",
      "[-1.41628802] 4.2\n",
      "[-0.76171452] -0.3\n",
      "[-0.33581161] 0.0\n",
      "[ 0.67661083] 3.3\n",
      "[-2.0920105] -0.1\n",
      "[-1.95432675] 1.6\n"
     ]
    }
   ],
   "source": [
    "for i in range(len(yo)):\n",
    "    print(yo[i], y_test[i])"
   ]
  },
  {
   "cell_type": "code",
   "execution_count": 192,
   "metadata": {},
   "outputs": [
    {
     "data": {
      "text/plain": [
       "(array([ 31, 113]),)"
      ]
     },
     "execution_count": 192,
     "metadata": {},
     "output_type": "execute_result"
    }
   ],
   "source": [
    "np.where(y == 1.3)"
   ]
  },
  {
   "cell_type": "code",
   "execution_count": 191,
   "metadata": {},
   "outputs": [
    {
     "data": {
      "text/plain": [
       "Player       Giannis Antetokounmpo\n",
       "Player_ID                   203507\n",
       "Pos                             PF\n",
       "Age                             19\n",
       "Tm                             MIL\n",
       "G                               72\n",
       "MP                            1897\n",
       "PER                           10.8\n",
       "TS%                          0.518\n",
       "3PAr                         0.056\n",
       "FTr                          0.404\n",
       "ORB%                           4.5\n",
       "DRB%                          16.3\n",
       "TRB%                          10.2\n",
       "AST%                          12.1\n",
       "STL%                           1.5\n",
       "BLK%                           2.6\n",
       "TOV%                          11.7\n",
       "USG%                            15\n",
       "OWS                            0.1\n",
       "DWS                            1.1\n",
       "WS                             1.2\n",
       "WS/48                        0.031\n",
       "OBPM                          -2.5\n",
       "DBPM                           0.7\n",
       "BPM                           -1.8\n",
       "VORP                           0.1\n",
       "Yr                            2014\n",
       "cluster                         23\n",
       "Name: 37, dtype: object"
      ]
     },
     "execution_count": 191,
     "metadata": {},
     "output_type": "execute_result"
    }
   ],
   "source": [
    "df.iloc[37]"
   ]
  },
  {
   "cell_type": "code",
   "execution_count": null,
   "metadata": {
    "collapsed": true
   },
   "outputs": [],
   "source": []
  }
 ],
 "metadata": {
  "kernelspec": {
   "display_name": "Python 3",
   "language": "python",
   "name": "python3"
  },
  "language_info": {
   "codemirror_mode": {
    "name": "ipython",
    "version": 3
   },
   "file_extension": ".py",
   "mimetype": "text/x-python",
   "name": "python",
   "nbconvert_exporter": "python",
   "pygments_lexer": "ipython3",
   "version": "3.6.1"
  }
 },
 "nbformat": 4,
 "nbformat_minor": 1
}
