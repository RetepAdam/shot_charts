{
 "cells": [
  {
   "cell_type": "code",
   "execution_count": 4,
   "metadata": {},
   "outputs": [],
   "source": [
    "import numpy as np\n",
    "import pandas as pd\n",
    "import matplotlib.pyplot as plt\n",
    "from sklearn.metrics import silhouette_samples, silhouette_score\n",
    "import matplotlib.cm as cm\n",
    "from __future__ import division\n",
    "import numpy as np\n",
    "# from keras.models import Sequential\n",
    "# from keras.layers.core import Dense\n",
    "# from keras.optimizers import SGD\n",
    "import pandas as pd\n",
    "from sklearn.model_selection import train_test_split\n",
    "# import theano\n",
    "import cv2\n",
    "from sklearn import preprocessing\n",
    "%pylab inline"
   ]
  },
  {
   "cell_type": "code",
   "execution_count": 21,
   "metadata": {},
   "outputs": [
    {
     "name": "stderr",
     "output_type": "stream",
     "text": [
      "/Users/peternygaard/anaconda3/lib/python3.6/site-packages/ipykernel_launcher.py:36: ClusterWarning: scipy.cluster: The symmetric non-negative hollow observation matrix looks suspiciously like an uncondensed distance matrix\n",
      "/Users/peternygaard/anaconda3/lib/python3.6/site-packages/ipykernel_launcher.py:99: SettingWithCopyWarning: \n",
      "A value is trying to be set on a copy of a slice from a DataFrame\n",
      "\n",
      "See the caveats in the documentation: http://pandas.pydata.org/pandas-docs/stable/indexing.html#indexing-view-versus-copy\n"
     ]
    },
    {
     "name": "stdout",
     "output_type": "stream",
     "text": [
      "0.1 0.1496789933950985\n"
     ]
    },
    {
     "name": "stderr",
     "output_type": "stream",
     "text": [
      "/Users/peternygaard/anaconda3/lib/python3.6/site-packages/ipykernel_launcher.py:99: SettingWithCopyWarning: \n",
      "A value is trying to be set on a copy of a slice from a DataFrame\n",
      "\n",
      "See the caveats in the documentation: http://pandas.pydata.org/pandas-docs/stable/indexing.html#indexing-view-versus-copy\n"
     ]
    },
    {
     "name": "stdout",
     "output_type": "stream",
     "text": [
      "0.2 0.13769961262912755\n"
     ]
    },
    {
     "name": "stderr",
     "output_type": "stream",
     "text": [
      "/Users/peternygaard/anaconda3/lib/python3.6/site-packages/ipykernel_launcher.py:99: SettingWithCopyWarning: \n",
      "A value is trying to be set on a copy of a slice from a DataFrame\n",
      "\n",
      "See the caveats in the documentation: http://pandas.pydata.org/pandas-docs/stable/indexing.html#indexing-view-versus-copy\n"
     ]
    },
    {
     "name": "stdout",
     "output_type": "stream",
     "text": [
      "0.30000000000000004 0.14406745602702342\n"
     ]
    },
    {
     "name": "stderr",
     "output_type": "stream",
     "text": [
      "/Users/peternygaard/anaconda3/lib/python3.6/site-packages/ipykernel_launcher.py:99: SettingWithCopyWarning: \n",
      "A value is trying to be set on a copy of a slice from a DataFrame\n",
      "\n",
      "See the caveats in the documentation: http://pandas.pydata.org/pandas-docs/stable/indexing.html#indexing-view-versus-copy\n"
     ]
    },
    {
     "name": "stdout",
     "output_type": "stream",
     "text": [
      "0.4 0.04040064932821674\n"
     ]
    },
    {
     "name": "stderr",
     "output_type": "stream",
     "text": [
      "/Users/peternygaard/anaconda3/lib/python3.6/site-packages/ipykernel_launcher.py:99: SettingWithCopyWarning: \n",
      "A value is trying to be set on a copy of a slice from a DataFrame\n",
      "\n",
      "See the caveats in the documentation: http://pandas.pydata.org/pandas-docs/stable/indexing.html#indexing-view-versus-copy\n"
     ]
    },
    {
     "name": "stdout",
     "output_type": "stream",
     "text": [
      "0.5 0.27903333546828113\n"
     ]
    },
    {
     "name": "stderr",
     "output_type": "stream",
     "text": [
      "/Users/peternygaard/anaconda3/lib/python3.6/site-packages/ipykernel_launcher.py:99: SettingWithCopyWarning: \n",
      "A value is trying to be set on a copy of a slice from a DataFrame\n",
      "\n",
      "See the caveats in the documentation: http://pandas.pydata.org/pandas-docs/stable/indexing.html#indexing-view-versus-copy\n"
     ]
    },
    {
     "name": "stdout",
     "output_type": "stream",
     "text": [
      "0.6 0.09502570637731589\n"
     ]
    },
    {
     "name": "stderr",
     "output_type": "stream",
     "text": [
      "/Users/peternygaard/anaconda3/lib/python3.6/site-packages/ipykernel_launcher.py:99: SettingWithCopyWarning: \n",
      "A value is trying to be set on a copy of a slice from a DataFrame\n",
      "\n",
      "See the caveats in the documentation: http://pandas.pydata.org/pandas-docs/stable/indexing.html#indexing-view-versus-copy\n"
     ]
    },
    {
     "name": "stdout",
     "output_type": "stream",
     "text": [
      "0.7000000000000001 -0.04092302548306215\n"
     ]
    },
    {
     "name": "stderr",
     "output_type": "stream",
     "text": [
      "/Users/peternygaard/anaconda3/lib/python3.6/site-packages/ipykernel_launcher.py:99: SettingWithCopyWarning: \n",
      "A value is trying to be set on a copy of a slice from a DataFrame\n",
      "\n",
      "See the caveats in the documentation: http://pandas.pydata.org/pandas-docs/stable/indexing.html#indexing-view-versus-copy\n"
     ]
    },
    {
     "name": "stdout",
     "output_type": "stream",
     "text": [
      "0.8 0.1426289101744841\n"
     ]
    },
    {
     "name": "stderr",
     "output_type": "stream",
     "text": [
      "/Users/peternygaard/anaconda3/lib/python3.6/site-packages/ipykernel_launcher.py:99: SettingWithCopyWarning: \n",
      "A value is trying to be set on a copy of a slice from a DataFrame\n",
      "\n",
      "See the caveats in the documentation: http://pandas.pydata.org/pandas-docs/stable/indexing.html#indexing-view-versus-copy\n"
     ]
    },
    {
     "name": "stdout",
     "output_type": "stream",
     "text": [
      "0.9 0.13975388433280622\n"
     ]
    },
    {
     "name": "stderr",
     "output_type": "stream",
     "text": [
      "/Users/peternygaard/anaconda3/lib/python3.6/site-packages/ipykernel_launcher.py:99: SettingWithCopyWarning: \n",
      "A value is trying to be set on a copy of a slice from a DataFrame\n",
      "\n",
      "See the caveats in the documentation: http://pandas.pydata.org/pandas-docs/stable/indexing.html#indexing-view-versus-copy\n"
     ]
    },
    {
     "name": "stdout",
     "output_type": "stream",
     "text": [
      "1.0 0.2016023405380084\n"
     ]
    },
    {
     "name": "stderr",
     "output_type": "stream",
     "text": [
      "/Users/peternygaard/anaconda3/lib/python3.6/site-packages/ipykernel_launcher.py:99: SettingWithCopyWarning: \n",
      "A value is trying to be set on a copy of a slice from a DataFrame\n",
      "\n",
      "See the caveats in the documentation: http://pandas.pydata.org/pandas-docs/stable/indexing.html#indexing-view-versus-copy\n"
     ]
    },
    {
     "name": "stdout",
     "output_type": "stream",
     "text": [
      "1.1 0.23332958293708328\n"
     ]
    },
    {
     "name": "stderr",
     "output_type": "stream",
     "text": [
      "/Users/peternygaard/anaconda3/lib/python3.6/site-packages/ipykernel_launcher.py:99: SettingWithCopyWarning: \n",
      "A value is trying to be set on a copy of a slice from a DataFrame\n",
      "\n",
      "See the caveats in the documentation: http://pandas.pydata.org/pandas-docs/stable/indexing.html#indexing-view-versus-copy\n"
     ]
    },
    {
     "name": "stdout",
     "output_type": "stream",
     "text": [
      "1.2000000000000002 0.2657435994037489\n"
     ]
    },
    {
     "name": "stderr",
     "output_type": "stream",
     "text": [
      "/Users/peternygaard/anaconda3/lib/python3.6/site-packages/ipykernel_launcher.py:99: SettingWithCopyWarning: \n",
      "A value is trying to be set on a copy of a slice from a DataFrame\n",
      "\n",
      "See the caveats in the documentation: http://pandas.pydata.org/pandas-docs/stable/indexing.html#indexing-view-versus-copy\n"
     ]
    },
    {
     "name": "stdout",
     "output_type": "stream",
     "text": [
      "1.3000000000000003 0.24972494547144242\n"
     ]
    },
    {
     "name": "stderr",
     "output_type": "stream",
     "text": [
      "/Users/peternygaard/anaconda3/lib/python3.6/site-packages/ipykernel_launcher.py:99: SettingWithCopyWarning: \n",
      "A value is trying to be set on a copy of a slice from a DataFrame\n",
      "\n",
      "See the caveats in the documentation: http://pandas.pydata.org/pandas-docs/stable/indexing.html#indexing-view-versus-copy\n"
     ]
    },
    {
     "name": "stdout",
     "output_type": "stream",
     "text": [
      "1.4000000000000001 0.14074323778713327\n"
     ]
    },
    {
     "name": "stderr",
     "output_type": "stream",
     "text": [
      "/Users/peternygaard/anaconda3/lib/python3.6/site-packages/ipykernel_launcher.py:99: SettingWithCopyWarning: \n",
      "A value is trying to be set on a copy of a slice from a DataFrame\n",
      "\n",
      "See the caveats in the documentation: http://pandas.pydata.org/pandas-docs/stable/indexing.html#indexing-view-versus-copy\n"
     ]
    },
    {
     "name": "stdout",
     "output_type": "stream",
     "text": [
      "1.5000000000000002 0.13356267465270566\n"
     ]
    },
    {
     "name": "stderr",
     "output_type": "stream",
     "text": [
      "/Users/peternygaard/anaconda3/lib/python3.6/site-packages/ipykernel_launcher.py:99: SettingWithCopyWarning: \n",
      "A value is trying to be set on a copy of a slice from a DataFrame\n",
      "\n",
      "See the caveats in the documentation: http://pandas.pydata.org/pandas-docs/stable/indexing.html#indexing-view-versus-copy\n"
     ]
    },
    {
     "name": "stdout",
     "output_type": "stream",
     "text": [
      "1.6 0.13140969730572805\n"
     ]
    },
    {
     "name": "stderr",
     "output_type": "stream",
     "text": [
      "/Users/peternygaard/anaconda3/lib/python3.6/site-packages/ipykernel_launcher.py:99: SettingWithCopyWarning: \n",
      "A value is trying to be set on a copy of a slice from a DataFrame\n",
      "\n",
      "See the caveats in the documentation: http://pandas.pydata.org/pandas-docs/stable/indexing.html#indexing-view-versus-copy\n"
     ]
    },
    {
     "name": "stdout",
     "output_type": "stream",
     "text": [
      "1.7000000000000002 0.12567234864301946\n"
     ]
    },
    {
     "name": "stderr",
     "output_type": "stream",
     "text": [
      "/Users/peternygaard/anaconda3/lib/python3.6/site-packages/ipykernel_launcher.py:99: SettingWithCopyWarning: \n",
      "A value is trying to be set on a copy of a slice from a DataFrame\n",
      "\n",
      "See the caveats in the documentation: http://pandas.pydata.org/pandas-docs/stable/indexing.html#indexing-view-versus-copy\n"
     ]
    },
    {
     "name": "stdout",
     "output_type": "stream",
     "text": [
      "1.8000000000000003 0.1238289938117594\n"
     ]
    },
    {
     "name": "stderr",
     "output_type": "stream",
     "text": [
      "/Users/peternygaard/anaconda3/lib/python3.6/site-packages/ipykernel_launcher.py:99: SettingWithCopyWarning: \n",
      "A value is trying to be set on a copy of a slice from a DataFrame\n",
      "\n",
      "See the caveats in the documentation: http://pandas.pydata.org/pandas-docs/stable/indexing.html#indexing-view-versus-copy\n"
     ]
    },
    {
     "name": "stdout",
     "output_type": "stream",
     "text": [
      "1.9000000000000001 0.13444149317648857\n"
     ]
    },
    {
     "name": "stderr",
     "output_type": "stream",
     "text": [
      "/Users/peternygaard/anaconda3/lib/python3.6/site-packages/ipykernel_launcher.py:99: SettingWithCopyWarning: \n",
      "A value is trying to be set on a copy of a slice from a DataFrame\n",
      "\n",
      "See the caveats in the documentation: http://pandas.pydata.org/pandas-docs/stable/indexing.html#indexing-view-versus-copy\n"
     ]
    },
    {
     "name": "stdout",
     "output_type": "stream",
     "text": [
      "2.0 0.12390500272463079\n"
     ]
    },
    {
     "name": "stderr",
     "output_type": "stream",
     "text": [
      "/Users/peternygaard/anaconda3/lib/python3.6/site-packages/ipykernel_launcher.py:99: SettingWithCopyWarning: \n",
      "A value is trying to be set on a copy of a slice from a DataFrame\n",
      "\n",
      "See the caveats in the documentation: http://pandas.pydata.org/pandas-docs/stable/indexing.html#indexing-view-versus-copy\n"
     ]
    },
    {
     "name": "stdout",
     "output_type": "stream",
     "text": [
      "2.1 0.12371635329689556\n"
     ]
    },
    {
     "name": "stderr",
     "output_type": "stream",
     "text": [
      "/Users/peternygaard/anaconda3/lib/python3.6/site-packages/ipykernel_launcher.py:99: SettingWithCopyWarning: \n",
      "A value is trying to be set on a copy of a slice from a DataFrame\n",
      "\n",
      "See the caveats in the documentation: http://pandas.pydata.org/pandas-docs/stable/indexing.html#indexing-view-versus-copy\n"
     ]
    },
    {
     "name": "stdout",
     "output_type": "stream",
     "text": [
      "2.2 0.10933201052921504\n"
     ]
    },
    {
     "name": "stderr",
     "output_type": "stream",
     "text": [
      "/Users/peternygaard/anaconda3/lib/python3.6/site-packages/ipykernel_launcher.py:99: SettingWithCopyWarning: \n",
      "A value is trying to be set on a copy of a slice from a DataFrame\n",
      "\n",
      "See the caveats in the documentation: http://pandas.pydata.org/pandas-docs/stable/indexing.html#indexing-view-versus-copy\n"
     ]
    },
    {
     "name": "stdout",
     "output_type": "stream",
     "text": [
      "2.3000000000000003 0.0956353574017329\n"
     ]
    },
    {
     "name": "stderr",
     "output_type": "stream",
     "text": [
      "/Users/peternygaard/anaconda3/lib/python3.6/site-packages/ipykernel_launcher.py:99: SettingWithCopyWarning: \n",
      "A value is trying to be set on a copy of a slice from a DataFrame\n",
      "\n",
      "See the caveats in the documentation: http://pandas.pydata.org/pandas-docs/stable/indexing.html#indexing-view-versus-copy\n"
     ]
    },
    {
     "name": "stdout",
     "output_type": "stream",
     "text": [
      "2.4000000000000004 0.0956353574017329\n"
     ]
    },
    {
     "name": "stderr",
     "output_type": "stream",
     "text": [
      "/Users/peternygaard/anaconda3/lib/python3.6/site-packages/ipykernel_launcher.py:99: SettingWithCopyWarning: \n",
      "A value is trying to be set on a copy of a slice from a DataFrame\n",
      "\n",
      "See the caveats in the documentation: http://pandas.pydata.org/pandas-docs/stable/indexing.html#indexing-view-versus-copy\n"
     ]
    },
    {
     "name": "stdout",
     "output_type": "stream",
     "text": [
      "2.5000000000000004 0.07084621146815806\n",
      "2.6 0.07193318030998042\n",
      "2.7 0.07407663635211514\n",
      "2.8000000000000003 0.07407663635211514\n"
     ]
    },
    {
     "ename": "IndexError",
     "evalue": "index 0 is out of bounds for axis 0 with size 0",
     "output_type": "error",
     "traceback": [
      "\u001b[0;31m---------------------------------------------------------------------------\u001b[0m",
      "\u001b[0;31mIndexError\u001b[0m                                Traceback (most recent call last)",
      "\u001b[0;32m<ipython-input-21-f72e0b8814ef>\u001b[0m in \u001b[0;36m<module>\u001b[0;34m()\u001b[0m\n\u001b[1;32m     93\u001b[0m \u001b[0;34m\u001b[0m\u001b[0m\n\u001b[1;32m     94\u001b[0m     \u001b[0mkeys\u001b[0m \u001b[0;34m=\u001b[0m \u001b[0mnp\u001b[0m\u001b[0;34m.\u001b[0m\u001b[0marray\u001b[0m\u001b[0;34m(\u001b[0m\u001b[0mlist\u001b[0m\u001b[0;34m(\u001b[0m\u001b[0mlineups\u001b[0m\u001b[0;34m.\u001b[0m\u001b[0mkeys\u001b[0m\u001b[0;34m(\u001b[0m\u001b[0;34m)\u001b[0m\u001b[0;34m)\u001b[0m\u001b[0;34m)\u001b[0m\u001b[0;34m\u001b[0m\u001b[0m\n\u001b[0;32m---> 95\u001b[0;31m     \u001b[0muniqlo\u001b[0m \u001b[0;34m=\u001b[0m \u001b[0mnp\u001b[0m\u001b[0;34m.\u001b[0m\u001b[0mwhere\u001b[0m\u001b[0;34m(\u001b[0m\u001b[0mkeys\u001b[0m \u001b[0;34m==\u001b[0m \u001b[0;34m'b'\u001b[0m\u001b[0;34m)\u001b[0m\u001b[0;34m[\u001b[0m\u001b[0;36m0\u001b[0m\u001b[0;34m]\u001b[0m\u001b[0;34m[\u001b[0m\u001b[0;36m0\u001b[0m\u001b[0;34m]\u001b[0m\u001b[0;34m\u001b[0m\u001b[0m\n\u001b[0m\u001b[1;32m     96\u001b[0m     \u001b[0mnaCl\u001b[0m \u001b[0;34m=\u001b[0m \u001b[0mmax\u001b[0m\u001b[0;34m(\u001b[0m\u001b[0mdx\u001b[0m\u001b[0;34m[\u001b[0m\u001b[0;34m'Cluster'\u001b[0m\u001b[0;34m]\u001b[0m\u001b[0;34m)\u001b[0m \u001b[0;34m-\u001b[0m \u001b[0mnp\u001b[0m\u001b[0;34m.\u001b[0m\u001b[0marray\u001b[0m\u001b[0;34m(\u001b[0m\u001b[0mdx\u001b[0m\u001b[0;34m[\u001b[0m\u001b[0mdx\u001b[0m\u001b[0;34m[\u001b[0m\u001b[0;34m'Cluster'\u001b[0m\u001b[0;34m]\u001b[0m \u001b[0;34m==\u001b[0m \u001b[0muniqlo\u001b[0m\u001b[0;34m]\u001b[0m\u001b[0;34m.\u001b[0m\u001b[0mindex\u001b[0m\u001b[0;34m)\u001b[0m\u001b[0;34m[\u001b[0m\u001b[0;36m0\u001b[0m\u001b[0;34m]\u001b[0m\u001b[0;34m\u001b[0m\u001b[0m\n\u001b[1;32m     97\u001b[0m \u001b[0;34m\u001b[0m\u001b[0m\n",
      "\u001b[0;31mIndexError\u001b[0m: index 0 is out of bounds for axis 0 with size 0"
     ]
    }
   ],
   "source": [
    "from scipy.spatial.distance import pdist, squareform\n",
    "from scipy.cluster.hierarchy import linkage, dendrogram, set_link_color_palette\n",
    "import scipy.spatial.distance as ssd\n",
    "from faker import Factory\n",
    "\n",
    "fake = Factory.create()\n",
    "colorList = []\n",
    "\n",
    "for i in range(5000):\n",
    "    colorList.append(fake.hex_color())\n",
    "\n",
    "set_link_color_palette(colorList)\n",
    "\n",
    "df = pd.read_csv('know_your_y.csv')\n",
    "# df = df[df['AST%'] <= 15]\n",
    "# df = df[df['Pos'] != 'C']\n",
    "# df = df[df['Pos'] != 'PF']\n",
    "# df = df[df['Pos'] != 'PG']\n",
    "df.reset_index(inplace=True, drop=True)\n",
    "\n",
    "df['Player_ID'] = df['Player_ID'].astype(int)\n",
    "\n",
    "y = np.array(df['OBPM 3-4-5'].values)\n",
    "pid = np.array(df['Player_ID'].values)\n",
    "yr = np.array(df['Yr'].values)\n",
    "images = []\n",
    "for i in range(len(pid)):\n",
    "    images.append(cv2.imread('thumbnails/thumbnail_{0}_{1}-{2}.png'.format(str(pid[i]), str(yr[i]-1), str(yr[i])[-2:]), 0))\n",
    "X = np.array(images)\n",
    "flat_exes = []\n",
    "for i in range(len(X)):\n",
    "    flat_exes.append(X[i].flatten())\n",
    "X = np.array(flat_exes)\n",
    "\n",
    "dist = ssd.squareform(pdist(X, 'cosine'))\n",
    "clust = linkage(dist, method='complete')\n",
    "\n",
    "for lol in np.arange(.1, 3, .1):\n",
    "    R = dendrogram(clust,\n",
    "                    color_threshold=lol, no_plot=True)\n",
    "\n",
    "    from collections import defaultdict\n",
    "    from matplotlib.colors import rgb2hex, colorConverter\n",
    "\n",
    "    class Clusters(dict):\n",
    "        def _repr_html_(self):\n",
    "            html = '<table style=\"border: 0;\">'\n",
    "            for c in self:\n",
    "                hx = rgb2hex(colorConverter.to_rgb(c))\n",
    "                html += '<tr style=\"border: 0;\">' \\\n",
    "                '<td style=\"background-color: {0}; ' \\\n",
    "                           'border: 0;\">' \\\n",
    "                '<code style=\"background-color: {0};\">'.format(hx)\n",
    "                html += c + '</code></td>'\n",
    "                html += '<td style=\"border: 0\"><code>' \n",
    "                html += repr(self[c]) + '</code>'\n",
    "                html += '</td></tr>'\n",
    "\n",
    "            html += '</table>'\n",
    "\n",
    "            return html\n",
    "\n",
    "    def get_cluster_classes(den, label='ivl'):\n",
    "        cluster_idxs = defaultdict(list)\n",
    "        for c, pi in zip(den['color_list'], den['icoord']):\n",
    "            for leg in pi[1:3]:\n",
    "                i = (leg - 5.0) / 10.0\n",
    "                if abs(i - int(i)) < 1e-5:\n",
    "                    cluster_idxs[c].append(int(i))\n",
    "\n",
    "        cluster_classes = Clusters()\n",
    "        for c, l in cluster_idxs.items():\n",
    "            i_l = [den[label][i] for i in l]\n",
    "            cluster_classes[c] = i_l\n",
    "\n",
    "        return cluster_classes\n",
    "\n",
    "    lineups = get_cluster_classes(R)\n",
    "\n",
    "    thing = []\n",
    "\n",
    "    for ok in range(len(list(lineups.values()))):\n",
    "        comps = list(lineups.values())[ok]\n",
    "\n",
    "        for i in comps:\n",
    "            thing.append([df['Player'][int(i)], df['Age'][int(i)], ok, df['OBPM'][int(i)], df['OBPM 3-4-5'][int(i)], df['AST%'][int(i)], df['AST% 3-4-5'][int(i)]])\n",
    "    #         thing.append([df['Player'][int(i)], df['Pos'][int(i)], df['Yr'][int(i)], df['Age'][int(i)], ok, df['OBPM'][int(i)], df['OBPM 3-4-5'][int(i)], df['AST%'][int(i)], df['AST% 3-4-5'][int(i)]])\n",
    "        loadout = pd.DataFrame(thing)\n",
    "        loadout.rename(columns={0:'Player', 1: 'Age', 2: 'Cluster', 3: 'OBPM', 4:'OBPM 3-4-5', 5: 'AST%', 6:'AST% 3-4-5'},inplace=True)\n",
    "        loadout = loadout.sort_values('OBPM 3-4-5', ascending=False)\n",
    "        loadout.reset_index(inplace=True, drop=True)\n",
    "\n",
    "    dx = pd.DataFrame(thing)\n",
    "    dx.rename(columns={0:'Player', 1: 'Age', 2: 'Cluster', 3: 'OBPM', 4:'OBPM 3-4-5', 5: 'AST%', 6:'AST% 3-4-5'},inplace=True)\n",
    "    # dx.rename(columns={0:'Player', 1: 'Pos', 2: 'Year', 3: 'Age', 4: 'Cluster', 5: 'OBPM', 6:'OBPM 3-4-5', 7: 'AST%', 8:'AST% 3-4-5'},inplace=True)\n",
    "\n",
    "    keys = np.array(list(lineups.keys()))\n",
    "    uniqlo = np.where(keys == 'b')[0][0]\n",
    "    naCl = max(dx['Cluster']) - np.array(dx[dx['Cluster'] == uniqlo].index)[0]\n",
    "\n",
    "    for i in np.array(dx[dx['Cluster'] == uniqlo].index)[1:]:\n",
    "        dx['Cluster'][i] = naCl + i\n",
    "\n",
    "    dx = dx[~dx.duplicated()]\n",
    "    dx.reset_index(inplace=True, drop=True)\n",
    "\n",
    "    import pandas as pd\n",
    "    import numpy as np\n",
    "    from sklearn.ensemble import RandomForestRegressor\n",
    "    from sklearn.model_selection import train_test_split\n",
    "    from sklearn.metrics import classification_report\n",
    "    from sklearn.linear_model import LogisticRegression\n",
    "\n",
    "    dgenx = dx[dx['OBPM 3-4-5'] >= -9]\n",
    "    # dgenx = dgenx[dgenx['Pos'] != 'C']\n",
    "    # dgenx = dgenx[dgenx['Pos'] != 'PF']\n",
    "    dgenx.reset_index(inplace=True, drop=True)\n",
    "\n",
    "    X = np.array(dgenx[['Cluster', 'AST%', 'Age']].values)\n",
    "    y = np.array(dgenx['OBPM 3-4-5'].values)\n",
    "\n",
    "    X_train, X_test, y_train, y_test = train_test_split(X, y, random_state=21)\n",
    "    regr = RandomForestRegressor(random_state=21, n_estimators=1000)\n",
    "    regr.fit(X_train, y_train)\n",
    "    predictions = regr.predict(X_test)\n",
    "\n",
    "    print(lol, regr.score(X_test, y_test))"
   ]
  },
  {
   "cell_type": "code",
   "execution_count": 22,
   "metadata": {},
   "outputs": [
    {
     "data": {
      "text/html": [
       "<div>\n",
       "<style scoped>\n",
       "    .dataframe tbody tr th:only-of-type {\n",
       "        vertical-align: middle;\n",
       "    }\n",
       "\n",
       "    .dataframe tbody tr th {\n",
       "        vertical-align: top;\n",
       "    }\n",
       "\n",
       "    .dataframe thead th {\n",
       "        text-align: right;\n",
       "    }\n",
       "</style>\n",
       "<table border=\"1\" class=\"dataframe\">\n",
       "  <thead>\n",
       "    <tr style=\"text-align: right;\">\n",
       "      <th></th>\n",
       "      <th>Age</th>\n",
       "      <th>OBPM</th>\n",
       "      <th>OBPM 3-4-5</th>\n",
       "      <th>AST%</th>\n",
       "      <th>AST% 3-4-5</th>\n",
       "    </tr>\n",
       "    <tr>\n",
       "      <th>Cluster</th>\n",
       "      <th></th>\n",
       "      <th></th>\n",
       "      <th></th>\n",
       "      <th></th>\n",
       "      <th></th>\n",
       "    </tr>\n",
       "  </thead>\n",
       "  <tbody>\n",
       "    <tr>\n",
       "      <th>4</th>\n",
       "      <td>25.000000</td>\n",
       "      <td>1.600000</td>\n",
       "      <td>2.700000</td>\n",
       "      <td>5.800000</td>\n",
       "      <td>2.700000</td>\n",
       "    </tr>\n",
       "    <tr>\n",
       "      <th>5</th>\n",
       "      <td>22.400000</td>\n",
       "      <td>-0.560000</td>\n",
       "      <td>0.780000</td>\n",
       "      <td>13.060000</td>\n",
       "      <td>12.640000</td>\n",
       "    </tr>\n",
       "    <tr>\n",
       "      <th>11</th>\n",
       "      <td>21.924107</td>\n",
       "      <td>-1.021875</td>\n",
       "      <td>0.224107</td>\n",
       "      <td>15.163393</td>\n",
       "      <td>16.343304</td>\n",
       "    </tr>\n",
       "    <tr>\n",
       "      <th>10</th>\n",
       "      <td>21.446429</td>\n",
       "      <td>-1.239286</td>\n",
       "      <td>0.200000</td>\n",
       "      <td>13.996429</td>\n",
       "      <td>15.965179</td>\n",
       "    </tr>\n",
       "    <tr>\n",
       "      <th>6</th>\n",
       "      <td>22.145455</td>\n",
       "      <td>-0.727273</td>\n",
       "      <td>-0.123636</td>\n",
       "      <td>15.574545</td>\n",
       "      <td>15.881818</td>\n",
       "    </tr>\n",
       "    <tr>\n",
       "      <th>8</th>\n",
       "      <td>21.411765</td>\n",
       "      <td>-1.835294</td>\n",
       "      <td>-0.894118</td>\n",
       "      <td>9.923529</td>\n",
       "      <td>11.645098</td>\n",
       "    </tr>\n",
       "    <tr>\n",
       "      <th>2</th>\n",
       "      <td>22.523810</td>\n",
       "      <td>-1.323810</td>\n",
       "      <td>-1.276190</td>\n",
       "      <td>5.080952</td>\n",
       "      <td>7.061905</td>\n",
       "    </tr>\n",
       "    <tr>\n",
       "      <th>1</th>\n",
       "      <td>21.568966</td>\n",
       "      <td>-2.010345</td>\n",
       "      <td>-1.365517</td>\n",
       "      <td>5.231034</td>\n",
       "      <td>6.615517</td>\n",
       "    </tr>\n",
       "    <tr>\n",
       "      <th>0</th>\n",
       "      <td>21.944444</td>\n",
       "      <td>-2.283333</td>\n",
       "      <td>-1.459722</td>\n",
       "      <td>6.350000</td>\n",
       "      <td>7.765278</td>\n",
       "    </tr>\n",
       "    <tr>\n",
       "      <th>3</th>\n",
       "      <td>22.250000</td>\n",
       "      <td>-3.575000</td>\n",
       "      <td>-1.850000</td>\n",
       "      <td>2.975000</td>\n",
       "      <td>4.475000</td>\n",
       "    </tr>\n",
       "    <tr>\n",
       "      <th>9</th>\n",
       "      <td>21.894737</td>\n",
       "      <td>-2.189474</td>\n",
       "      <td>-1.926316</td>\n",
       "      <td>10.915789</td>\n",
       "      <td>11.689474</td>\n",
       "    </tr>\n",
       "  </tbody>\n",
       "</table>\n",
       "</div>"
      ],
      "text/plain": [
       "               Age      OBPM  OBPM 3-4-5       AST%  AST% 3-4-5\n",
       "Cluster                                                        \n",
       "4        25.000000  1.600000    2.700000   5.800000    2.700000\n",
       "5        22.400000 -0.560000    0.780000  13.060000   12.640000\n",
       "11       21.924107 -1.021875    0.224107  15.163393   16.343304\n",
       "10       21.446429 -1.239286    0.200000  13.996429   15.965179\n",
       "6        22.145455 -0.727273   -0.123636  15.574545   15.881818\n",
       "8        21.411765 -1.835294   -0.894118   9.923529   11.645098\n",
       "2        22.523810 -1.323810   -1.276190   5.080952    7.061905\n",
       "1        21.568966 -2.010345   -1.365517   5.231034    6.615517\n",
       "0        21.944444 -2.283333   -1.459722   6.350000    7.765278\n",
       "3        22.250000 -3.575000   -1.850000   2.975000    4.475000\n",
       "9        21.894737 -2.189474   -1.926316  10.915789   11.689474"
      ]
     },
     "execution_count": 22,
     "metadata": {},
     "output_type": "execute_result"
    }
   ],
   "source": [
    "dgenx.groupby('Cluster').mean().sort_values('OBPM 3-4-5', ascending=False)"
   ]
  },
  {
   "cell_type": "code",
   "execution_count": 19,
   "metadata": {},
   "outputs": [
    {
     "data": {
      "text/html": [
       "<div>\n",
       "<style scoped>\n",
       "    .dataframe tbody tr th:only-of-type {\n",
       "        vertical-align: middle;\n",
       "    }\n",
       "\n",
       "    .dataframe tbody tr th {\n",
       "        vertical-align: top;\n",
       "    }\n",
       "\n",
       "    .dataframe thead th {\n",
       "        text-align: right;\n",
       "    }\n",
       "</style>\n",
       "<table border=\"1\" class=\"dataframe\">\n",
       "  <thead>\n",
       "    <tr style=\"text-align: right;\">\n",
       "      <th></th>\n",
       "      <th>Player</th>\n",
       "      <th>Age</th>\n",
       "      <th>Cluster</th>\n",
       "      <th>OBPM</th>\n",
       "      <th>OBPM 3-4-5</th>\n",
       "      <th>AST%</th>\n",
       "      <th>AST% 3-4-5</th>\n",
       "    </tr>\n",
       "  </thead>\n",
       "  <tbody>\n",
       "    <tr>\n",
       "      <th>286</th>\n",
       "      <td>Damian Lillard</td>\n",
       "      <td>22</td>\n",
       "      <td>31</td>\n",
       "      <td>2.7</td>\n",
       "      <td>5.7</td>\n",
       "      <td>28.8</td>\n",
       "      <td>30.4</td>\n",
       "    </tr>\n",
       "    <tr>\n",
       "      <th>283</th>\n",
       "      <td>Chris Duhon</td>\n",
       "      <td>22</td>\n",
       "      <td>31</td>\n",
       "      <td>-1.2</td>\n",
       "      <td>-0.2</td>\n",
       "      <td>28.6</td>\n",
       "      <td>26.5</td>\n",
       "    </tr>\n",
       "    <tr>\n",
       "      <th>280</th>\n",
       "      <td>Robert Covington</td>\n",
       "      <td>24</td>\n",
       "      <td>31</td>\n",
       "      <td>0.6</td>\n",
       "      <td>0.0</td>\n",
       "      <td>9.8</td>\n",
       "      <td>7.5</td>\n",
       "    </tr>\n",
       "    <tr>\n",
       "      <th>279</th>\n",
       "      <td>Joe Harris</td>\n",
       "      <td>25</td>\n",
       "      <td>31</td>\n",
       "      <td>-1.4</td>\n",
       "      <td>NaN</td>\n",
       "      <td>7.3</td>\n",
       "      <td>NaN</td>\n",
       "    </tr>\n",
       "    <tr>\n",
       "      <th>281</th>\n",
       "      <td>Kevin Huerter</td>\n",
       "      <td>20</td>\n",
       "      <td>31</td>\n",
       "      <td>-0.9</td>\n",
       "      <td>NaN</td>\n",
       "      <td>14.5</td>\n",
       "      <td>NaN</td>\n",
       "    </tr>\n",
       "    <tr>\n",
       "      <th>282</th>\n",
       "      <td>Ryan Arcidiacono</td>\n",
       "      <td>24</td>\n",
       "      <td>31</td>\n",
       "      <td>-0.1</td>\n",
       "      <td>NaN</td>\n",
       "      <td>18.9</td>\n",
       "      <td>NaN</td>\n",
       "    </tr>\n",
       "    <tr>\n",
       "      <th>284</th>\n",
       "      <td>Jonah Bolden</td>\n",
       "      <td>23</td>\n",
       "      <td>31</td>\n",
       "      <td>-0.8</td>\n",
       "      <td>NaN</td>\n",
       "      <td>8.5</td>\n",
       "      <td>NaN</td>\n",
       "    </tr>\n",
       "    <tr>\n",
       "      <th>285</th>\n",
       "      <td>Pat Connaughton</td>\n",
       "      <td>25</td>\n",
       "      <td>31</td>\n",
       "      <td>-0.9</td>\n",
       "      <td>NaN</td>\n",
       "      <td>8.7</td>\n",
       "      <td>NaN</td>\n",
       "    </tr>\n",
       "    <tr>\n",
       "      <th>287</th>\n",
       "      <td>Lonzo Ball</td>\n",
       "      <td>20</td>\n",
       "      <td>31</td>\n",
       "      <td>-0.8</td>\n",
       "      <td>NaN</td>\n",
       "      <td>29.2</td>\n",
       "      <td>NaN</td>\n",
       "    </tr>\n",
       "  </tbody>\n",
       "</table>\n",
       "</div>"
      ],
      "text/plain": [
       "               Player  Age  Cluster  OBPM  OBPM 3-4-5  AST%  AST% 3-4-5\n",
       "286    Damian Lillard   22       31   2.7         5.7  28.8        30.4\n",
       "283       Chris Duhon   22       31  -1.2        -0.2  28.6        26.5\n",
       "280  Robert Covington   24       31   0.6         0.0   9.8         7.5\n",
       "279        Joe Harris   25       31  -1.4         NaN   7.3         NaN\n",
       "281     Kevin Huerter   20       31  -0.9         NaN  14.5         NaN\n",
       "282  Ryan Arcidiacono   24       31  -0.1         NaN  18.9         NaN\n",
       "284      Jonah Bolden   23       31  -0.8         NaN   8.5         NaN\n",
       "285   Pat Connaughton   25       31  -0.9         NaN   8.7         NaN\n",
       "287        Lonzo Ball   20       31  -0.8         NaN  29.2         NaN"
      ]
     },
     "execution_count": 19,
     "metadata": {},
     "output_type": "execute_result"
    }
   ],
   "source": [
    "dx[dx['Cluster'] == 31].sort_values('AST% 3-4-5', ascending=False)"
   ]
  },
  {
   "cell_type": "code",
   "execution_count": null,
   "metadata": {},
   "outputs": [],
   "source": []
  }
 ],
 "metadata": {
  "kernelspec": {
   "display_name": "Python 3",
   "language": "python",
   "name": "python3"
  },
  "language_info": {
   "codemirror_mode": {
    "name": "ipython",
    "version": 3
   },
   "file_extension": ".py",
   "mimetype": "text/x-python",
   "name": "python",
   "nbconvert_exporter": "python",
   "pygments_lexer": "ipython3",
   "version": "3.6.5"
  }
 },
 "nbformat": 4,
 "nbformat_minor": 2
}
